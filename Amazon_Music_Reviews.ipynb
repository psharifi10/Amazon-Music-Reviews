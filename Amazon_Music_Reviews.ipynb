{
  "cells": [
    {
      "cell_type": "markdown",
      "metadata": {
        "id": "ch35nHId3DzS"
      },
      "source": [
        "# **Amazon Music Reviews**\n",
        "\n",
        "The goal of project is to go through a dataset of music reviews from Amazon music in order to build predictive models and generate useful business insights and strategy.\n"
      ]
    },
    {
      "cell_type": "markdown",
      "metadata": {
        "id": "2VjzQHFs71rA"
      },
      "source": [
        "#### **Important preliminary steps before running the notebook:**\n",
        "- Please make sure to install below libraries (in the first cell) if not already installed\n",
        "- Please ensure the run time on google colab is set as GPU (deep learning model is used in this notebook)\n",
        "- Please make sure the following four files are in your same directory as the notebook: \n",
        "1. train.csv\n",
        "2. test.csv\n",
        "3. glove.6B.100d.txt\n",
        "4. rating_pairs.csv\n"
      ]
    },
    {
      "cell_type": "code",
      "execution_count": null,
      "metadata": {
        "id": "UuCgMavMzYOY"
      },
      "outputs": [],
      "source": [
        "!pip install xgboost\n",
        "!pip install nltk\n",
        "!pip install wordcloud\n",
        "!pip install bs4\n",
        "!pip install surprise\n",
        "!pip install contractions"
      ]
    },
    {
      "cell_type": "markdown",
      "metadata": {
        "id": "9JL7FW8Bqgr7"
      },
      "source": [
        "### **Importing necessay libraries**"
      ]
    },
    {
      "cell_type": "code",
      "execution_count": null,
      "metadata": {
        "colab": {
          "base_uri": "https://localhost:8080/"
        },
        "id": "I9CWrMnrqTex",
        "outputId": "b1aad540-7e33-4917-d70f-5e0a8336d017"
      },
      "outputs": [
        {
          "name": "stdout",
          "output_type": "stream",
          "text": [
            "[nltk_data] Downloading package stopwords to /root/nltk_data...\n",
            "[nltk_data]   Package stopwords is already up-to-date!\n",
            "[nltk_data] Downloading package wordnet to /root/nltk_data...\n",
            "[nltk_data]   Package wordnet is already up-to-date!\n"
          ]
        }
      ],
      "source": [
        "import collections\n",
        "import time\n",
        "import pandas as pd\n",
        "import numpy as np\n",
        "import re\n",
        "import joblib\n",
        "import html\n",
        "import string\n",
        "import pickle\n",
        "import unicodedata\n",
        "import scipy.sparse\n",
        "from bs4 import BeautifulSoup\n",
        "from statistics import mean\n",
        "from scipy.sparse import hstack\n",
        "from sklearn.model_selection import train_test_split, GridSearchCV\n",
        "from sklearn.feature_extraction.text import TfidfVectorizer\n",
        "from sklearn.metrics import mean_squared_error\n",
        "from sklearn.tree import DecisionTreeClassifier\n",
        "from sklearn.metrics import classification_report\n",
        "import nltk\n",
        "from nltk.stem import PorterStemmer\n",
        "from nltk.tokenize import RegexpTokenizer\n",
        "from nltk.corpus import stopwords\n",
        "from nltk.tokenize import word_tokenize\n",
        "nltk.download(\"stopwords\")\n",
        "nltk.download('wordnet')\n",
        "from gensim.models import word2vec\n",
        "import seaborn as sns\n",
        "from wordcloud import WordCloud\n",
        "import matplotlib.pyplot as plt\n",
        "from sklearn.preprocessing import StandardScaler, MinMaxScaler\n",
        "from sklearn.linear_model import Ridge, Lasso, LinearRegression\n",
        "from xgboost import XGBRegressor\n",
        "from sklearn.ensemble import RandomForestClassifier\n",
        "import warnings\n",
        "from textblob import TextBlob\n",
        "plt.style.use('ggplot')\n",
        "warnings.filterwarnings(\"ignore\")\n",
        "%matplotlib inline"
      ]
    },
    {
      "cell_type": "markdown",
      "metadata": {
        "id": "GmD_rt_Rqns6"
      },
      "source": [
        "### **Reading the input files**"
      ]
    },
    {
      "cell_type": "code",
      "execution_count": null,
      "metadata": {
        "id": "AzN6yqF1qWrk"
      },
      "outputs": [],
      "source": [
        "DF_train = pd.read_csv('train.csv')\n",
        "DF_test = pd.read_csv('test.csv')"
      ]
    },
    {
      "cell_type": "markdown",
      "metadata": {
        "id": "pV5b8FQarBIb"
      },
      "source": [
        "General view of the input files"
      ]
    },
    {
      "cell_type": "code",
      "execution_count": null,
      "metadata": {
        "colab": {
          "base_uri": "https://localhost:8080/",
          "height": 206
        },
        "id": "t5n1STUlq555",
        "outputId": "956ce3dd-f0a0-4425-a1f1-6cda523e6d73"
      },
      "outputs": [
        {
          "data": {
            "text/html": [
              "<div>\n",
              "<style scoped>\n",
              "    .dataframe tbody tr th:only-of-type {\n",
              "        vertical-align: middle;\n",
              "    }\n",
              "\n",
              "    .dataframe tbody tr th {\n",
              "        vertical-align: top;\n",
              "    }\n",
              "\n",
              "    .dataframe thead th {\n",
              "        text-align: right;\n",
              "    }\n",
              "</style>\n",
              "<table border=\"1\" class=\"dataframe\">\n",
              "  <thead>\n",
              "    <tr style=\"text-align: right;\">\n",
              "      <th></th>\n",
              "      <th>reviewTime</th>\n",
              "      <th>reviewerID</th>\n",
              "      <th>reviewText</th>\n",
              "      <th>summary</th>\n",
              "      <th>unixReviewTime</th>\n",
              "      <th>category</th>\n",
              "      <th>price</th>\n",
              "      <th>itemID</th>\n",
              "      <th>reviewHash</th>\n",
              "      <th>image</th>\n",
              "    </tr>\n",
              "  </thead>\n",
              "  <tbody>\n",
              "    <tr>\n",
              "      <th>0</th>\n",
              "      <td>02 11, 2017</td>\n",
              "      <td>u04140621</td>\n",
              "      <td>ok</td>\n",
              "      <td>Five Stars</td>\n",
              "      <td>1486771200</td>\n",
              "      <td>Pop</td>\n",
              "      <td>$31.20</td>\n",
              "      <td>p65721979</td>\n",
              "      <td>98944233</td>\n",
              "      <td>NaN</td>\n",
              "    </tr>\n",
              "    <tr>\n",
              "      <th>1</th>\n",
              "      <td>01 29, 2018</td>\n",
              "      <td>u74766187</td>\n",
              "      <td>The 1955 and 1958 sets alone are worth the pur...</td>\n",
              "      <td>Buy It For the 1955 Set With Monk!</td>\n",
              "      <td>1517184000</td>\n",
              "      <td>Jazz</td>\n",
              "      <td>$34.04</td>\n",
              "      <td>p87809670</td>\n",
              "      <td>33903910</td>\n",
              "      <td>NaN</td>\n",
              "    </tr>\n",
              "    <tr>\n",
              "      <th>2</th>\n",
              "      <td>08 29, 2005</td>\n",
              "      <td>u31689638</td>\n",
              "      <td>Mary J Blige is someone most people know of. S...</td>\n",
              "      <td>Mary's excellent debut! Classic!</td>\n",
              "      <td>1125273600</td>\n",
              "      <td>Pop</td>\n",
              "      <td>$1.72</td>\n",
              "      <td>p52702240</td>\n",
              "      <td>35386470</td>\n",
              "      <td>NaN</td>\n",
              "    </tr>\n",
              "    <tr>\n",
              "      <th>3</th>\n",
              "      <td>11 2, 2015</td>\n",
              "      <td>u35613516</td>\n",
              "      <td>Very good satch album</td>\n",
              "      <td>Four Stars</td>\n",
              "      <td>1446422400</td>\n",
              "      <td>Pop</td>\n",
              "      <td>$10.99</td>\n",
              "      <td>p01314374</td>\n",
              "      <td>12404766</td>\n",
              "      <td>NaN</td>\n",
              "    </tr>\n",
              "    <tr>\n",
              "      <th>4</th>\n",
              "      <td>01 3, 2012</td>\n",
              "      <td>u93320378</td>\n",
              "      <td>Well there are hundreds of Christmas anthologi...</td>\n",
              "      <td>CD lives up to its name</td>\n",
              "      <td>1325548800</td>\n",
              "      <td>Alternative Rock</td>\n",
              "      <td>$7.98</td>\n",
              "      <td>p84396269</td>\n",
              "      <td>68253688</td>\n",
              "      <td>NaN</td>\n",
              "    </tr>\n",
              "  </tbody>\n",
              "</table>\n",
              "</div>"
            ],
            "text/plain": [
              "    reviewTime reviewerID  ... reviewHash image\n",
              "0  02 11, 2017  u04140621  ...   98944233   NaN\n",
              "1  01 29, 2018  u74766187  ...   33903910   NaN\n",
              "2  08 29, 2005  u31689638  ...   35386470   NaN\n",
              "3   11 2, 2015  u35613516  ...   12404766   NaN\n",
              "4   01 3, 2012  u93320378  ...   68253688   NaN\n",
              "\n",
              "[5 rows x 10 columns]"
            ]
          },
          "execution_count": 4,
          "metadata": {
            "tags": []
          },
          "output_type": "execute_result"
        }
      ],
      "source": [
        "DF_test.head()"
      ]
    },
    {
      "cell_type": "code",
      "execution_count": null,
      "metadata": {
        "colab": {
          "base_uri": "https://localhost:8080/",
          "height": 206
        },
        "id": "zLcLkCIzrLWJ",
        "outputId": "6153fb0b-79f3-49e1-861e-1e4d57a07443"
      },
      "outputs": [
        {
          "data": {
            "text/html": [
              "<div>\n",
              "<style scoped>\n",
              "    .dataframe tbody tr th:only-of-type {\n",
              "        vertical-align: middle;\n",
              "    }\n",
              "\n",
              "    .dataframe tbody tr th {\n",
              "        vertical-align: top;\n",
              "    }\n",
              "\n",
              "    .dataframe thead th {\n",
              "        text-align: right;\n",
              "    }\n",
              "</style>\n",
              "<table border=\"1\" class=\"dataframe\">\n",
              "  <thead>\n",
              "    <tr style=\"text-align: right;\">\n",
              "      <th></th>\n",
              "      <th>overall</th>\n",
              "      <th>reviewTime</th>\n",
              "      <th>reviewerID</th>\n",
              "      <th>reviewText</th>\n",
              "      <th>summary</th>\n",
              "      <th>unixReviewTime</th>\n",
              "      <th>category</th>\n",
              "      <th>price</th>\n",
              "      <th>itemID</th>\n",
              "      <th>reviewHash</th>\n",
              "      <th>image</th>\n",
              "    </tr>\n",
              "  </thead>\n",
              "  <tbody>\n",
              "    <tr>\n",
              "      <th>0</th>\n",
              "      <td>5.0</td>\n",
              "      <td>08 26, 2014</td>\n",
              "      <td>u92990698</td>\n",
              "      <td>A contemporary jazz and soul performer who's m...</td>\n",
              "      <td>\" CLASSIQUE \"</td>\n",
              "      <td>1409011200</td>\n",
              "      <td>Jazz</td>\n",
              "      <td>$8.40</td>\n",
              "      <td>p23649501</td>\n",
              "      <td>3856620</td>\n",
              "      <td>NaN</td>\n",
              "    </tr>\n",
              "    <tr>\n",
              "      <th>1</th>\n",
              "      <td>5.0</td>\n",
              "      <td>05 11, 2003</td>\n",
              "      <td>u36200649</td>\n",
              "      <td>Very good idea to put both the 'pop' and 'orch...</td>\n",
              "      <td>Exceeded my Expectations - This album RAWKS!</td>\n",
              "      <td>1052611200</td>\n",
              "      <td>Alternative Rock</td>\n",
              "      <td>$10.98</td>\n",
              "      <td>p58458313</td>\n",
              "      <td>56086781</td>\n",
              "      <td>NaN</td>\n",
              "    </tr>\n",
              "    <tr>\n",
              "      <th>2</th>\n",
              "      <td>5.0</td>\n",
              "      <td>12 5, 2017</td>\n",
              "      <td>u10721702</td>\n",
              "      <td>This is a great collection of Carole King's so...</td>\n",
              "      <td>A Must-have for Carole King Fans</td>\n",
              "      <td>1512432000</td>\n",
              "      <td>Pop</td>\n",
              "      <td>$5.99</td>\n",
              "      <td>p97027626</td>\n",
              "      <td>55852154</td>\n",
              "      <td>NaN</td>\n",
              "    </tr>\n",
              "    <tr>\n",
              "      <th>3</th>\n",
              "      <td>5.0</td>\n",
              "      <td>09 24, 2013</td>\n",
              "      <td>u86003775</td>\n",
              "      <td>The is album is a brilliant piece of Jazz fusi...</td>\n",
              "      <td>A Master piece!</td>\n",
              "      <td>1379980800</td>\n",
              "      <td>Jazz</td>\n",
              "      <td>$14.64</td>\n",
              "      <td>p43167086</td>\n",
              "      <td>43228100</td>\n",
              "      <td>NaN</td>\n",
              "    </tr>\n",
              "    <tr>\n",
              "      <th>4</th>\n",
              "      <td>5.0</td>\n",
              "      <td>01 14, 2015</td>\n",
              "      <td>u25672859</td>\n",
              "      <td>Waited a LONG time for this DVD to be released...</td>\n",
              "      <td>especially if you like concert videos</td>\n",
              "      <td>1421193600</td>\n",
              "      <td>Alternative Rock</td>\n",
              "      <td>$9.92</td>\n",
              "      <td>p94494236</td>\n",
              "      <td>54425467</td>\n",
              "      <td>NaN</td>\n",
              "    </tr>\n",
              "  </tbody>\n",
              "</table>\n",
              "</div>"
            ],
            "text/plain": [
              "   overall   reviewTime reviewerID  ...     itemID reviewHash  image\n",
              "0      5.0  08 26, 2014  u92990698  ...  p23649501    3856620    NaN\n",
              "1      5.0  05 11, 2003  u36200649  ...  p58458313   56086781    NaN\n",
              "2      5.0   12 5, 2017  u10721702  ...  p97027626   55852154    NaN\n",
              "3      5.0  09 24, 2013  u86003775  ...  p43167086   43228100    NaN\n",
              "4      5.0  01 14, 2015  u25672859  ...  p94494236   54425467    NaN\n",
              "\n",
              "[5 rows x 11 columns]"
            ]
          },
          "execution_count": 5,
          "metadata": {
            "tags": []
          },
          "output_type": "execute_result"
        }
      ],
      "source": [
        "DF_train.head()"
      ]
    },
    {
      "cell_type": "markdown",
      "metadata": {
        "id": "uUJxIiQirQt3"
      },
      "source": [
        "# **1 Data cleaning** "
      ]
    },
    {
      "cell_type": "markdown",
      "metadata": {
        "id": "Z6MhYmbKrXZq"
      },
      "source": [
        "## **1.1 Finding the missing data and implementing an appropriate strategy on them along with creating buckets for review times and item prices**\n",
        "In this section, the missing data is found and an appropriate startegy is employed to either remove them or fill them with appropriate value(s). It should be noted that some data in the \"price\" is missing too, but it is not denoted by null values. This missing data is denoted by words without any meaning. This step will also take care of these missing prices.\n",
        "\n",
        "Additionally, the item prices and review times are separated into different buckets for the simplification of the model features in the next steps."
      ]
    },
    {
      "cell_type": "markdown",
      "metadata": {
        "id": "-MSyrS2uiWeD"
      },
      "source": [
        "### **1.1.1 The missing data in the training set**\n"
      ]
    },
    {
      "cell_type": "markdown",
      "metadata": {
        "id": "H3FQFD_v7YHl"
      },
      "source": [
        "#### **1.1.1.1 The null values in the training set**"
      ]
    },
    {
      "cell_type": "code",
      "execution_count": null,
      "metadata": {
        "colab": {
          "base_uri": "https://localhost:8080/"
        },
        "id": "M0qAjx7nci6n",
        "outputId": "e9e9a942-9e71-4461-e204-89bd7fe4e718"
      },
      "outputs": [
        {
          "name": "stdout",
          "output_type": "stream",
          "text": [
            "reviewText 28 0.00018666666666666666\n",
            "summary 29 0.00019333333333333333\n",
            "image 149649 0.99766\n"
          ]
        }
      ],
      "source": [
        "# Finding the columns with missing data in the training set\n",
        "for colname in DF_train.columns:\n",
        "    nullnum=len(DF_train[DF_train[colname].isnull()])\n",
        "    # Finding other columns that contain null(s).\n",
        "    if nullnum:\n",
        "        print(colname, nullnum, nullnum / DF_train.shape[0])"
      ]
    },
    {
      "cell_type": "code",
      "execution_count": null,
      "metadata": {
        "colab": {
          "base_uri": "https://localhost:8080/",
          "height": 483
        },
        "id": "udONaoJipaDj",
        "outputId": "6c9bfc78-22b4-4fdf-a84f-ec7b9df4efef"
      },
      "outputs": [
        {
          "data": {
            "image/png": "[encoded data removed]",
            "text/plain": [
              "<Figure size 1008x576 with 1 Axes>"
            ]
          },
          "metadata": {
            "needs_background": "light",
            "tags": []
          },
          "output_type": "display_data"
        }
      ],
      "source": [
        "# Looking at all columns using heatmap to check if their missing data\n",
        "fig, ax = plt.subplots(figsize=(14,8))\n",
        "sns.heatmap(DF_train.isnull(), cmap='coolwarm', yticklabels=False, cbar=False, ax=ax)\n",
        "plt.show()"
      ]
    },
    {
      "cell_type": "markdown",
      "metadata": {
        "id": "tJXJYn0EdmGu"
      },
      "source": [
        "As we have many missing data in the \"image\" column (more than 99%), it is better to remove this column. The missing data in \"reviewText\" and \"summary\" columns are small (less than 0.01%). According to the fact that it is almost impossible to wrtie a review and summary on behalf of a reviewer/customer and the missing data for these two columns is small in number, it is better to remove the rows with missing data in these two columns."
      ]
    },
    {
      "cell_type": "code",
      "execution_count": null,
      "metadata": {
        "id": "mAsh6KijjVzE"
      },
      "outputs": [],
      "source": [
        "# Dropping the \"image\" column\n",
        "DF_train.drop(labels='image', axis=1, inplace=True)\n",
        "\n",
        "# Collecting the indices of the rows containing missing reviews or summaries\n",
        "ind_summ=DF_train[DF_train['summary'].isnull()].index\n",
        "ind_rev=DF_train[DF_train['reviewText'].isnull()].index\n",
        "\n",
        "# Dropping the rows containing missing reviews or summaries\n",
        "DF_train.drop(ind_summ, axis=0, inplace=True)\n",
        "# Here, a for loop is defined to neglect the rows with missing reviews that are already remove in the above line due to the missing summary reason\n",
        "for i in ind_rev:\n",
        "    if i in DF_train.index:\n",
        "        DF_train.drop(i, axis=0, inplace=True)"
      ]
    },
    {
      "cell_type": "markdown",
      "metadata": {
        "id": "CEH_GbcKolwJ"
      },
      "source": [
        "A final check to make sure there is not missing data left\n"
      ]
    },
    {
      "cell_type": "code",
      "execution_count": null,
      "metadata": {
        "colab": {
          "base_uri": "https://localhost:8080/"
        },
        "id": "PZAyoIgroq3Z",
        "outputId": "a3e84d84-d0ac-4bd2-e743-01f0efab69bd"
      },
      "outputs": [
        {
          "name": "stdout",
          "output_type": "stream",
          "text": [
            "No missing data in the overall column\n",
            "No missing data in the reviewTime column\n",
            "No missing data in the reviewerID column\n",
            "No missing data in the reviewText column\n",
            "No missing data in the summary column\n",
            "No missing data in the unixReviewTime column\n",
            "No missing data in the category column\n",
            "No missing data in the price column\n",
            "No missing data in the itemID column\n",
            "No missing data in the reviewHash column\n"
          ]
        }
      ],
      "source": [
        "# Finding the columns with missing data in the training set\n",
        "for colname in DF_train.columns:\n",
        "    nullnum=len(DF_train[DF_train[colname].isnull()])\n",
        "    # Finding other columns that contain null(s).\n",
        "    if nullnum:\n",
        "        print(colname, nullnum, nullnum / DF_train.shape[0])\n",
        "    else:\n",
        "        print('No missing data in the',colname,'column')"
      ]
    },
    {
      "cell_type": "markdown",
      "metadata": {
        "id": "KC5T2_JX4o8R"
      },
      "source": [
        "#### **1.1.1.2 The missing values in the \"price\" column of the training set**"
      ]
    },
    {
      "cell_type": "code",
      "execution_count": null,
      "metadata": {
        "colab": {
          "base_uri": "https://localhost:8080/"
        },
        "id": "NTjJWd0B2_kw",
        "outputId": "4800f1eb-04db-40d5-dc07-1bea7ce08dc7"
      },
      "outputs": [
        {
          "name": "stdout",
          "output_type": "stream",
          "text": [
            "The percentage of the missing prices is:  1.3697990650154386 %\n"
          ]
        }
      ],
      "source": [
        "ind_miss_pr=[]\n",
        "for i in DF_train.index:\n",
        "  \n",
        "  for index, word in enumerate(DF_train['price'][i]):\n",
        "    if index == 0:  \n",
        "      if word[0]!='$':\n",
        "        ind_miss_pr.append(i)\n",
        "\n",
        "print('The percentage of the missing prices is: ', (len(ind_miss_pr) / DF_train.shape[0])*100, '%')"
      ]
    },
    {
      "cell_type": "markdown",
      "metadata": {
        "id": "lWzayyIB5xJz"
      },
      "source": [
        "Since the number of missing prices is small (about 1.4%) and filling them with appropriate values is almost impossible, it is better to drop the rows with missing prices. "
      ]
    },
    {
      "cell_type": "code",
      "execution_count": null,
      "metadata": {
        "id": "F3RMZOin3il-"
      },
      "outputs": [],
      "source": [
        "DF_train.drop(ind_miss_pr, axis=0, inplace=True)"
      ]
    },
    {
      "cell_type": "markdown",
      "metadata": {
        "id": "EmqO9pr26dbD"
      },
      "source": [
        "Final check to see whether there is still any missing prices"
      ]
    },
    {
      "cell_type": "code",
      "execution_count": null,
      "metadata": {
        "colab": {
          "base_uri": "https://localhost:8080/"
        },
        "id": "w8A8eGob6vDm",
        "outputId": "16551429-6cb1-40e8-cd01-4d3d469f9386"
      },
      "outputs": [
        {
          "name": "stdout",
          "output_type": "stream",
          "text": [
            "There is no missing price\n"
          ]
        }
      ],
      "source": [
        "ind_miss_pr=[]\n",
        "for i in DF_train.index:\n",
        " \n",
        "  for index, word in enumerate(DF_train['price'][i]):\n",
        "    if index == 0:  \n",
        "      if word[0]!='$':\n",
        "        ind_miss_pr.append(i)\n",
        "\n",
        "if ind_miss_pr == []:\n",
        "  print('There is no missing price')\n",
        "else:\n",
        "  print(ind_miss_pr)"
      ]
    },
    {
      "cell_type": "markdown",
      "metadata": {
        "id": "wfRodfHHe8-4"
      },
      "source": [
        "### **1.1.2 The missing data in the test set**"
      ]
    },
    {
      "cell_type": "markdown",
      "metadata": {
        "id": "-1pmsKzf7cMI"
      },
      "source": [
        "#### **1.1.2.1 The null values in the test set**"
      ]
    },
    {
      "cell_type": "code",
      "execution_count": null,
      "metadata": {
        "colab": {
          "base_uri": "https://localhost:8080/"
        },
        "id": "GjXswKfKkjAo",
        "outputId": "e76ecd3d-038a-42da-f227-1c7e13b3d26d"
      },
      "outputs": [
        {
          "name": "stdout",
          "output_type": "stream",
          "text": [
            "reviewText 3 0.00015\n",
            "summary 4 0.0002\n",
            "image 19963 0.99815\n"
          ]
        }
      ],
      "source": [
        "# Finding the columns with missing data in the training set\n",
        "for colname in DF_test.columns:\n",
        "    nullnum=len(DF_test[DF_test[colname].isnull()])\n",
        "    # Finding other columns that contain null(s).\n",
        "    if nullnum:\n",
        "        print(colname, nullnum, nullnum / DF_test.shape[0])"
      ]
    },
    {
      "cell_type": "code",
      "execution_count": null,
      "metadata": {
        "colab": {
          "base_uri": "https://localhost:8080/",
          "height": 483
        },
        "id": "6oyWPZl7qCBe",
        "outputId": "ed9f63db-8793-41df-a355-70bc310d1b7f"
      },
      "outputs": [
        {
          "data": {
            "image/png": "[encoded data removed]",
            "text/plain": [
              "<Figure size 1008x576 with 1 Axes>"
            ]
          },
          "metadata": {
            "needs_background": "light",
            "tags": []
          },
          "output_type": "display_data"
        }
      ],
      "source": [
        "# Looking at all columns using heatmap to check if their missing data\n",
        "fig, ax = plt.subplots(figsize=(14,8))\n",
        "sns.heatmap(DF_test.isnull(), cmap='coolwarm', yticklabels=False, cbar=False, ax=ax)\n",
        "plt.show()"
      ]
    },
    {
      "cell_type": "markdown",
      "metadata": {
        "id": "iCuVWfN2qJC9"
      },
      "source": [
        "As we have many missing data in the \"image\" column (more than 99%), it is better to remove this column. The missing data in \"reviewText\" and \"summary\" columns are small (less than 0.03%). It is almost impossible to wrtie a review and summary on behalf of a reviewer/customer and the missing data for these two columns is small in number. Furthermore, we cannot drop the rows containing missing reviews or summaries as we need to submit the complete test set predictions at the end. Therefore, it is better to write 'NaN' in the place of missing review or summaries."
      ]
    },
    {
      "cell_type": "code",
      "execution_count": null,
      "metadata": {
        "id": "DxI4vCDgqCP4"
      },
      "outputs": [],
      "source": [
        "# Dropping the \"image\" column\n",
        "DF_test.drop(labels='image', axis=1, inplace=True)\n",
        "\n",
        "# Collecting the indices of the rows containing missing reviews or summaries\n",
        "ind_summ=DF_test[DF_test['summary'].isnull()].index\n",
        "ind_rev=DF_test[DF_test['reviewText'].isnull()].index\n",
        "\n",
        "DF_test['summary'][ind_summ]='NaN'\n",
        "DF_test['reviewText'][ind_rev]='NaN'"
      ]
    },
    {
      "cell_type": "code",
      "execution_count": null,
      "metadata": {
        "colab": {
          "base_uri": "https://localhost:8080/"
        },
        "id": "f4oh_PRXqCeX",
        "outputId": "1b87859b-c3a7-4c6e-a3aa-2caa90b991df"
      },
      "outputs": [
        {
          "name": "stdout",
          "output_type": "stream",
          "text": [
            "No missing data in the reviewTime column\n",
            "No missing data in the reviewerID column\n",
            "No missing data in the reviewText column\n",
            "No missing data in the summary column\n",
            "No missing data in the unixReviewTime column\n",
            "No missing data in the category column\n",
            "No missing data in the price column\n",
            "No missing data in the itemID column\n",
            "No missing data in the reviewHash column\n"
          ]
        }
      ],
      "source": [
        "# Finding the columns with missing data in the training set\n",
        "for colname in DF_test.columns:\n",
        "    nullnum=len(DF_test[DF_test[colname].isnull()])\n",
        "    # Finding other columns that contain null(s).\n",
        "    if nullnum:\n",
        "        print(colname, nullnum, nullnum / DF_test.shape[0])\n",
        "    else:\n",
        "        print('No missing data in the',colname,'column')"
      ]
    },
    {
      "cell_type": "markdown",
      "metadata": {
        "id": "eQpsxhUg7i43"
      },
      "source": [
        "#### **1.1.2.2 The missing values in the \"price\" column of the test set**"
      ]
    },
    {
      "cell_type": "code",
      "execution_count": null,
      "metadata": {
        "colab": {
          "base_uri": "https://localhost:8080/"
        },
        "id": "jLOUOLqCqClk",
        "outputId": "4d6175f2-9085-4251-fc57-9860448b01bb"
      },
      "outputs": [
        {
          "name": "stdout",
          "output_type": "stream",
          "text": [
            "The percentage of the missing prices is:  1.355 %\n"
          ]
        }
      ],
      "source": [
        "ind_miss_pr=[]\n",
        "for i in DF_test.index:\n",
        "  \n",
        "  for index, word in enumerate(DF_test['price'][i]):\n",
        "    if index == 0:  \n",
        "      if word[0]!='$':\n",
        "        ind_miss_pr.append(i)\n",
        "\n",
        "print('The percentage of the missing prices is: ', (len(ind_miss_pr) / DF_test.shape[0])*100, '%')"
      ]
    },
    {
      "cell_type": "markdown",
      "metadata": {
        "id": "lqapI1tWKS8L"
      },
      "source": [
        "The number of missing prices is small (about 1.4%) and filling them with appropriate values is almost impossible. Furthermore, due to the reason stated previously for the missing reviews and summaries in the test set, it is not possible to drop the rows containing missing prices. Therefore, it is better to fill them with appropriate values.\n",
        "\n",
        "For this purpose, the missing prices will be filled with the average of the price of the items in the training set with the same category of the item with missing price.\n",
        "\n",
        "First by copying the original training  set into a new dataframe, the rows with missing prices are completely dropped in the new dataframe. Then the price is converted to integers and the avarge price for each category is calculated."
      ]
    },
    {
      "cell_type": "code",
      "execution_count": null,
      "metadata": {
        "id": "8CJtdtNazyEz"
      },
      "outputs": [],
      "source": [
        "# Creating a new dataframe from the test set by copying it into a new dataframe\n",
        "new_DF_train=DF_train.copy()\n",
        "\n",
        "# removing $ sign from the price column\n",
        "new_DF_train['price'] = new_DF_train['price'].str.replace('$', '')\n",
        "\n",
        "# converting price column to numerical values\n",
        "new_DF_train['price'] = pd.to_numeric(new_DF_train['price'])\n",
        "\n",
        "# Separating the 'category' and 'price' columns into a new dataframe for further analysis\n",
        "pr_cat=new_DF_train[['category','price']]"
      ]
    },
    {
      "cell_type": "code",
      "execution_count": null,
      "metadata": {
        "id": "k8j_kl4o0u4A"
      },
      "outputs": [],
      "source": [
        "# This for loop fills the missing prices\n",
        "for i in ind_miss_pr:\n",
        "\n",
        "  # Getting the description of the category to which the item with missing price belongs to\n",
        "  des=pr_cat[(pr_cat['category'] == DF_test['category'][i])].describe()\n",
        "\n",
        "  # converting the average price of the category into string and add the $ sign to its beginning\n",
        "  price='$'+str(des['price'][1])\n",
        "\n",
        "  # Adding the new price into the missing value's location\n",
        "  DF_test['price'][i]=price"
      ]
    },
    {
      "cell_type": "markdown",
      "metadata": {
        "id": "s7QM3uKMKZwd"
      },
      "source": [
        "Final check to see whether there is still any missing prices"
      ]
    },
    {
      "cell_type": "code",
      "execution_count": null,
      "metadata": {
        "colab": {
          "base_uri": "https://localhost:8080/"
        },
        "id": "VIKfwXnc-zlp",
        "outputId": "561e595b-dc6d-4914-a9e6-bb5b35b9676d"
      },
      "outputs": [
        {
          "name": "stdout",
          "output_type": "stream",
          "text": [
            "There is no missing price\n"
          ]
        }
      ],
      "source": [
        "ind_miss_pr=[]\n",
        "for i in DF_test.index:\n",
        "  \n",
        "  for index, word in enumerate(DF_test['price'][i]):\n",
        "    if index == 0:  \n",
        "      if word[0]!='$':\n",
        "        ind_miss_pr.append(i)\n",
        "\n",
        "if ind_miss_pr == []:\n",
        "  print('There is no missing price')\n",
        "else:\n",
        "  print(ind_miss_pr)"
      ]
    },
    {
      "cell_type": "markdown",
      "metadata": {
        "id": "HVKEV3Qs0aRG"
      },
      "source": [
        "### **1.1.3 Creating buckets for the price column**"
      ]
    },
    {
      "cell_type": "markdown",
      "metadata": {
        "id": "VoiIWnMX0ttn"
      },
      "source": [
        "#### **1.1.3.1 Creating buckets for the price column in the training set**"
      ]
    },
    {
      "cell_type": "code",
      "execution_count": null,
      "metadata": {
        "id": "fhDDIlwiqrcu"
      },
      "outputs": [],
      "source": [
        "# removing $ sign from the price column\n",
        "DF_train['price'] = DF_train['price'].str.replace('$', '')"
      ]
    },
    {
      "cell_type": "code",
      "execution_count": null,
      "metadata": {
        "id": "u75S2ErvzkKF"
      },
      "outputs": [],
      "source": [
        "# converting price column to numerical values\n",
        "DF_train['price'] = pd.to_numeric(DF_train['price'])"
      ]
    },
    {
      "cell_type": "code",
      "execution_count": null,
      "metadata": {
        "colab": {
          "base_uri": "https://localhost:8080/",
          "height": 300
        },
        "id": "2V6l0aP2zkTX",
        "outputId": "b5f09c61-dc1f-4272-d242-bfa68163af56"
      },
      "outputs": [
        {
          "data": {
            "text/html": [
              "<div>\n",
              "<style scoped>\n",
              "    .dataframe tbody tr th:only-of-type {\n",
              "        vertical-align: middle;\n",
              "    }\n",
              "\n",
              "    .dataframe tbody tr th {\n",
              "        vertical-align: top;\n",
              "    }\n",
              "\n",
              "    .dataframe thead th {\n",
              "        text-align: right;\n",
              "    }\n",
              "</style>\n",
              "<table border=\"1\" class=\"dataframe\">\n",
              "  <thead>\n",
              "    <tr style=\"text-align: right;\">\n",
              "      <th></th>\n",
              "      <th>price</th>\n",
              "    </tr>\n",
              "  </thead>\n",
              "  <tbody>\n",
              "    <tr>\n",
              "      <th>count</th>\n",
              "      <td>147895.000000</td>\n",
              "    </tr>\n",
              "    <tr>\n",
              "      <th>mean</th>\n",
              "      <td>13.712968</td>\n",
              "    </tr>\n",
              "    <tr>\n",
              "      <th>std</th>\n",
              "      <td>15.973006</td>\n",
              "    </tr>\n",
              "    <tr>\n",
              "      <th>min</th>\n",
              "      <td>0.010000</td>\n",
              "    </tr>\n",
              "    <tr>\n",
              "      <th>25%</th>\n",
              "      <td>7.635000</td>\n",
              "    </tr>\n",
              "    <tr>\n",
              "      <th>50%</th>\n",
              "      <td>11.280000</td>\n",
              "    </tr>\n",
              "    <tr>\n",
              "      <th>75%</th>\n",
              "      <td>15.980000</td>\n",
              "    </tr>\n",
              "    <tr>\n",
              "      <th>max</th>\n",
              "      <td>799.990000</td>\n",
              "    </tr>\n",
              "  </tbody>\n",
              "</table>\n",
              "</div>"
            ],
            "text/plain": [
              "               price\n",
              "count  147895.000000\n",
              "mean       13.712968\n",
              "std        15.973006\n",
              "min         0.010000\n",
              "25%         7.635000\n",
              "50%        11.280000\n",
              "75%        15.980000\n",
              "max       799.990000"
            ]
          },
          "execution_count": 23,
          "metadata": {
            "tags": []
          },
          "output_type": "execute_result"
        }
      ],
      "source": [
        "DF_train[['price']].describe()"
      ]
    },
    {
      "cell_type": "code",
      "execution_count": null,
      "metadata": {
        "id": "l5ddB2zEzkap"
      },
      "outputs": [],
      "source": [
        "# categorizing price based on statistics\n",
        "DF_train['price_category'] = pd.cut(DF_train['price'], [-np.inf, 7.64, 11.28, 15.98, np.inf],\n",
        "                              labels=['low', 'medium', 'high', 'very_high'])"
      ]
    },
    {
      "cell_type": "code",
      "execution_count": null,
      "metadata": {
        "colab": {
          "base_uri": "https://localhost:8080/",
          "height": 206
        },
        "id": "Bd8RAYrpNGlx",
        "outputId": "06d1a8a6-aee6-4345-c1bb-ccda759b0887"
      },
      "outputs": [
        {
          "data": {
            "text/html": [
              "<div>\n",
              "<style scoped>\n",
              "    .dataframe tbody tr th:only-of-type {\n",
              "        vertical-align: middle;\n",
              "    }\n",
              "\n",
              "    .dataframe tbody tr th {\n",
              "        vertical-align: top;\n",
              "    }\n",
              "\n",
              "    .dataframe thead th {\n",
              "        text-align: right;\n",
              "    }\n",
              "</style>\n",
              "<table border=\"1\" class=\"dataframe\">\n",
              "  <thead>\n",
              "    <tr style=\"text-align: right;\">\n",
              "      <th></th>\n",
              "      <th>overall</th>\n",
              "      <th>reviewTime</th>\n",
              "      <th>reviewerID</th>\n",
              "      <th>reviewText</th>\n",
              "      <th>summary</th>\n",
              "      <th>unixReviewTime</th>\n",
              "      <th>category</th>\n",
              "      <th>price</th>\n",
              "      <th>itemID</th>\n",
              "      <th>reviewHash</th>\n",
              "      <th>price_category</th>\n",
              "    </tr>\n",
              "  </thead>\n",
              "  <tbody>\n",
              "    <tr>\n",
              "      <th>0</th>\n",
              "      <td>5.0</td>\n",
              "      <td>08 26, 2014</td>\n",
              "      <td>u92990698</td>\n",
              "      <td>A contemporary jazz and soul performer who's m...</td>\n",
              "      <td>\" CLASSIQUE \"</td>\n",
              "      <td>1409011200</td>\n",
              "      <td>Jazz</td>\n",
              "      <td>8.40</td>\n",
              "      <td>p23649501</td>\n",
              "      <td>3856620</td>\n",
              "      <td>medium</td>\n",
              "    </tr>\n",
              "    <tr>\n",
              "      <th>1</th>\n",
              "      <td>5.0</td>\n",
              "      <td>05 11, 2003</td>\n",
              "      <td>u36200649</td>\n",
              "      <td>Very good idea to put both the 'pop' and 'orch...</td>\n",
              "      <td>Exceeded my Expectations - This album RAWKS!</td>\n",
              "      <td>1052611200</td>\n",
              "      <td>Alternative Rock</td>\n",
              "      <td>10.98</td>\n",
              "      <td>p58458313</td>\n",
              "      <td>56086781</td>\n",
              "      <td>medium</td>\n",
              "    </tr>\n",
              "    <tr>\n",
              "      <th>2</th>\n",
              "      <td>5.0</td>\n",
              "      <td>12 5, 2017</td>\n",
              "      <td>u10721702</td>\n",
              "      <td>This is a great collection of Carole King's so...</td>\n",
              "      <td>A Must-have for Carole King Fans</td>\n",
              "      <td>1512432000</td>\n",
              "      <td>Pop</td>\n",
              "      <td>5.99</td>\n",
              "      <td>p97027626</td>\n",
              "      <td>55852154</td>\n",
              "      <td>low</td>\n",
              "    </tr>\n",
              "    <tr>\n",
              "      <th>3</th>\n",
              "      <td>5.0</td>\n",
              "      <td>09 24, 2013</td>\n",
              "      <td>u86003775</td>\n",
              "      <td>The is album is a brilliant piece of Jazz fusi...</td>\n",
              "      <td>A Master piece!</td>\n",
              "      <td>1379980800</td>\n",
              "      <td>Jazz</td>\n",
              "      <td>14.64</td>\n",
              "      <td>p43167086</td>\n",
              "      <td>43228100</td>\n",
              "      <td>high</td>\n",
              "    </tr>\n",
              "    <tr>\n",
              "      <th>4</th>\n",
              "      <td>5.0</td>\n",
              "      <td>01 14, 2015</td>\n",
              "      <td>u25672859</td>\n",
              "      <td>Waited a LONG time for this DVD to be released...</td>\n",
              "      <td>especially if you like concert videos</td>\n",
              "      <td>1421193600</td>\n",
              "      <td>Alternative Rock</td>\n",
              "      <td>9.92</td>\n",
              "      <td>p94494236</td>\n",
              "      <td>54425467</td>\n",
              "      <td>medium</td>\n",
              "    </tr>\n",
              "  </tbody>\n",
              "</table>\n",
              "</div>"
            ],
            "text/plain": [
              "   overall   reviewTime reviewerID  ...     itemID reviewHash  price_category\n",
              "0      5.0  08 26, 2014  u92990698  ...  p23649501    3856620          medium\n",
              "1      5.0  05 11, 2003  u36200649  ...  p58458313   56086781          medium\n",
              "2      5.0   12 5, 2017  u10721702  ...  p97027626   55852154             low\n",
              "3      5.0  09 24, 2013  u86003775  ...  p43167086   43228100            high\n",
              "4      5.0  01 14, 2015  u25672859  ...  p94494236   54425467          medium\n",
              "\n",
              "[5 rows x 11 columns]"
            ]
          },
          "execution_count": 25,
          "metadata": {
            "tags": []
          },
          "output_type": "execute_result"
        }
      ],
      "source": [
        "DF_train.head()"
      ]
    },
    {
      "cell_type": "markdown",
      "metadata": {
        "id": "RfnNWjSlK_eN"
      },
      "source": [
        "#### **1.1.3.2 Creating buckets for the price column in the test set**"
      ]
    },
    {
      "cell_type": "code",
      "execution_count": null,
      "metadata": {
        "id": "7WWV0OHiK6R5"
      },
      "outputs": [],
      "source": [
        "# removing $ sign from the price column\n",
        "DF_test['price'] = DF_test['price'].str.replace('$', '')"
      ]
    },
    {
      "cell_type": "code",
      "execution_count": null,
      "metadata": {
        "id": "kBlzuNMhK6VD"
      },
      "outputs": [],
      "source": [
        "# converting price column to numerical values\n",
        "DF_test['price'] = pd.to_numeric(DF_test['price'])"
      ]
    },
    {
      "cell_type": "code",
      "execution_count": null,
      "metadata": {
        "colab": {
          "base_uri": "https://localhost:8080/",
          "height": 300
        },
        "id": "WZM6nNMmK6Xq",
        "outputId": "d98bdcbc-37d7-444a-fa7d-e411ff881012"
      },
      "outputs": [
        {
          "data": {
            "text/html": [
              "<div>\n",
              "<style scoped>\n",
              "    .dataframe tbody tr th:only-of-type {\n",
              "        vertical-align: middle;\n",
              "    }\n",
              "\n",
              "    .dataframe tbody tr th {\n",
              "        vertical-align: top;\n",
              "    }\n",
              "\n",
              "    .dataframe thead th {\n",
              "        text-align: right;\n",
              "    }\n",
              "</style>\n",
              "<table border=\"1\" class=\"dataframe\">\n",
              "  <thead>\n",
              "    <tr style=\"text-align: right;\">\n",
              "      <th></th>\n",
              "      <th>price</th>\n",
              "    </tr>\n",
              "  </thead>\n",
              "  <tbody>\n",
              "    <tr>\n",
              "      <th>count</th>\n",
              "      <td>20000.000000</td>\n",
              "    </tr>\n",
              "    <tr>\n",
              "      <th>mean</th>\n",
              "      <td>13.458673</td>\n",
              "    </tr>\n",
              "    <tr>\n",
              "      <th>std</th>\n",
              "      <td>13.322898</td>\n",
              "    </tr>\n",
              "    <tr>\n",
              "      <th>min</th>\n",
              "      <td>0.010000</td>\n",
              "    </tr>\n",
              "    <tr>\n",
              "      <th>25%</th>\n",
              "      <td>7.740000</td>\n",
              "    </tr>\n",
              "    <tr>\n",
              "      <th>50%</th>\n",
              "      <td>11.370000</td>\n",
              "    </tr>\n",
              "    <tr>\n",
              "      <th>75%</th>\n",
              "      <td>15.960000</td>\n",
              "    </tr>\n",
              "    <tr>\n",
              "      <th>max</th>\n",
              "      <td>799.990000</td>\n",
              "    </tr>\n",
              "  </tbody>\n",
              "</table>\n",
              "</div>"
            ],
            "text/plain": [
              "              price\n",
              "count  20000.000000\n",
              "mean      13.458673\n",
              "std       13.322898\n",
              "min        0.010000\n",
              "25%        7.740000\n",
              "50%       11.370000\n",
              "75%       15.960000\n",
              "max      799.990000"
            ]
          },
          "execution_count": 28,
          "metadata": {
            "tags": []
          },
          "output_type": "execute_result"
        }
      ],
      "source": [
        "DF_test[['price']].describe()"
      ]
    },
    {
      "cell_type": "code",
      "execution_count": null,
      "metadata": {
        "id": "5yNbdb4kK6aT"
      },
      "outputs": [],
      "source": [
        "# categorizing price based on statistics\n",
        "DF_test['price_category'] = pd.cut(DF_test['price'], [-np.inf, 7.64, 11.28, 15.98, np.inf],\n",
        "                              labels=['low', 'medium', 'high', 'very_high'])"
      ]
    },
    {
      "cell_type": "code",
      "execution_count": null,
      "metadata": {
        "colab": {
          "base_uri": "https://localhost:8080/",
          "height": 206
        },
        "id": "ZSfWLZopK6cr",
        "outputId": "cd2cadda-39ff-4d51-b978-42266a4f4992"
      },
      "outputs": [
        {
          "data": {
            "text/html": [
              "<div>\n",
              "<style scoped>\n",
              "    .dataframe tbody tr th:only-of-type {\n",
              "        vertical-align: middle;\n",
              "    }\n",
              "\n",
              "    .dataframe tbody tr th {\n",
              "        vertical-align: top;\n",
              "    }\n",
              "\n",
              "    .dataframe thead th {\n",
              "        text-align: right;\n",
              "    }\n",
              "</style>\n",
              "<table border=\"1\" class=\"dataframe\">\n",
              "  <thead>\n",
              "    <tr style=\"text-align: right;\">\n",
              "      <th></th>\n",
              "      <th>reviewTime</th>\n",
              "      <th>reviewerID</th>\n",
              "      <th>reviewText</th>\n",
              "      <th>summary</th>\n",
              "      <th>unixReviewTime</th>\n",
              "      <th>category</th>\n",
              "      <th>price</th>\n",
              "      <th>itemID</th>\n",
              "      <th>reviewHash</th>\n",
              "      <th>price_category</th>\n",
              "    </tr>\n",
              "  </thead>\n",
              "  <tbody>\n",
              "    <tr>\n",
              "      <th>0</th>\n",
              "      <td>02 11, 2017</td>\n",
              "      <td>u04140621</td>\n",
              "      <td>ok</td>\n",
              "      <td>Five Stars</td>\n",
              "      <td>1486771200</td>\n",
              "      <td>Pop</td>\n",
              "      <td>31.20</td>\n",
              "      <td>p65721979</td>\n",
              "      <td>98944233</td>\n",
              "      <td>very_high</td>\n",
              "    </tr>\n",
              "    <tr>\n",
              "      <th>1</th>\n",
              "      <td>01 29, 2018</td>\n",
              "      <td>u74766187</td>\n",
              "      <td>The 1955 and 1958 sets alone are worth the pur...</td>\n",
              "      <td>Buy It For the 1955 Set With Monk!</td>\n",
              "      <td>1517184000</td>\n",
              "      <td>Jazz</td>\n",
              "      <td>34.04</td>\n",
              "      <td>p87809670</td>\n",
              "      <td>33903910</td>\n",
              "      <td>very_high</td>\n",
              "    </tr>\n",
              "    <tr>\n",
              "      <th>2</th>\n",
              "      <td>08 29, 2005</td>\n",
              "      <td>u31689638</td>\n",
              "      <td>Mary J Blige is someone most people know of. S...</td>\n",
              "      <td>Mary's excellent debut! Classic!</td>\n",
              "      <td>1125273600</td>\n",
              "      <td>Pop</td>\n",
              "      <td>1.72</td>\n",
              "      <td>p52702240</td>\n",
              "      <td>35386470</td>\n",
              "      <td>low</td>\n",
              "    </tr>\n",
              "    <tr>\n",
              "      <th>3</th>\n",
              "      <td>11 2, 2015</td>\n",
              "      <td>u35613516</td>\n",
              "      <td>Very good satch album</td>\n",
              "      <td>Four Stars</td>\n",
              "      <td>1446422400</td>\n",
              "      <td>Pop</td>\n",
              "      <td>10.99</td>\n",
              "      <td>p01314374</td>\n",
              "      <td>12404766</td>\n",
              "      <td>medium</td>\n",
              "    </tr>\n",
              "    <tr>\n",
              "      <th>4</th>\n",
              "      <td>01 3, 2012</td>\n",
              "      <td>u93320378</td>\n",
              "      <td>Well there are hundreds of Christmas anthologi...</td>\n",
              "      <td>CD lives up to its name</td>\n",
              "      <td>1325548800</td>\n",
              "      <td>Alternative Rock</td>\n",
              "      <td>7.98</td>\n",
              "      <td>p84396269</td>\n",
              "      <td>68253688</td>\n",
              "      <td>medium</td>\n",
              "    </tr>\n",
              "  </tbody>\n",
              "</table>\n",
              "</div>"
            ],
            "text/plain": [
              "    reviewTime reviewerID  ... reviewHash price_category\n",
              "0  02 11, 2017  u04140621  ...   98944233      very_high\n",
              "1  01 29, 2018  u74766187  ...   33903910      very_high\n",
              "2  08 29, 2005  u31689638  ...   35386470            low\n",
              "3   11 2, 2015  u35613516  ...   12404766         medium\n",
              "4   01 3, 2012  u93320378  ...   68253688         medium\n",
              "\n",
              "[5 rows x 10 columns]"
            ]
          },
          "execution_count": 30,
          "metadata": {
            "tags": []
          },
          "output_type": "execute_result"
        }
      ],
      "source": [
        "DF_test.head()"
      ]
    },
    {
      "cell_type": "markdown",
      "metadata": {
        "id": "wQcVLjfvo0v4"
      },
      "source": [
        "### **1.1.4 Creating buckets for the \"unixReviewTime\" column**"
      ]
    },
    {
      "cell_type": "markdown",
      "metadata": {
        "id": "88ICSqe44-fe"
      },
      "source": [
        "#### **1.1.4.1 Creating buckets for the \"unixReviewTime\" column in the test set**"
      ]
    },
    {
      "cell_type": "code",
      "execution_count": null,
      "metadata": {
        "id": "86P-vuUyK6fN"
      },
      "outputs": [],
      "source": [
        "# converting unixReviewTime column to numerical values\n",
        "DF_test['unixReviewTime'] = pd.to_numeric(DF_test['unixReviewTime'])"
      ]
    },
    {
      "cell_type": "code",
      "execution_count": null,
      "metadata": {
        "colab": {
          "base_uri": "https://localhost:8080/",
          "height": 300
        },
        "id": "fZBPR6z7ofCq",
        "outputId": "48d56352-7938-4b08-8de1-e02c0499d699"
      },
      "outputs": [
        {
          "data": {
            "text/html": [
              "<div>\n",
              "<style scoped>\n",
              "    .dataframe tbody tr th:only-of-type {\n",
              "        vertical-align: middle;\n",
              "    }\n",
              "\n",
              "    .dataframe tbody tr th {\n",
              "        vertical-align: top;\n",
              "    }\n",
              "\n",
              "    .dataframe thead th {\n",
              "        text-align: right;\n",
              "    }\n",
              "</style>\n",
              "<table border=\"1\" class=\"dataframe\">\n",
              "  <thead>\n",
              "    <tr style=\"text-align: right;\">\n",
              "      <th></th>\n",
              "      <th>unixReviewTime</th>\n",
              "    </tr>\n",
              "  </thead>\n",
              "  <tbody>\n",
              "    <tr>\n",
              "      <th>count</th>\n",
              "      <td>2.000000e+04</td>\n",
              "    </tr>\n",
              "    <tr>\n",
              "      <th>mean</th>\n",
              "      <td>1.283571e+09</td>\n",
              "    </tr>\n",
              "    <tr>\n",
              "      <th>std</th>\n",
              "      <td>1.715204e+08</td>\n",
              "    </tr>\n",
              "    <tr>\n",
              "      <th>min</th>\n",
              "      <td>8.937216e+08</td>\n",
              "    </tr>\n",
              "    <tr>\n",
              "      <th>25%</th>\n",
              "      <td>1.128643e+09</td>\n",
              "    </tr>\n",
              "    <tr>\n",
              "      <th>50%</th>\n",
              "      <td>1.352290e+09</td>\n",
              "    </tr>\n",
              "    <tr>\n",
              "      <th>75%</th>\n",
              "      <td>1.427674e+09</td>\n",
              "    </tr>\n",
              "    <tr>\n",
              "      <th>max</th>\n",
              "      <td>1.538266e+09</td>\n",
              "    </tr>\n",
              "  </tbody>\n",
              "</table>\n",
              "</div>"
            ],
            "text/plain": [
              "       unixReviewTime\n",
              "count    2.000000e+04\n",
              "mean     1.283571e+09\n",
              "std      1.715204e+08\n",
              "min      8.937216e+08\n",
              "25%      1.128643e+09\n",
              "50%      1.352290e+09\n",
              "75%      1.427674e+09\n",
              "max      1.538266e+09"
            ]
          },
          "execution_count": 32,
          "metadata": {
            "tags": []
          },
          "output_type": "execute_result"
        }
      ],
      "source": [
        "DF_test[['unixReviewTime']].describe()"
      ]
    },
    {
      "cell_type": "code",
      "execution_count": null,
      "metadata": {
        "id": "PU2xI31yofFW"
      },
      "outputs": [],
      "source": [
        "# categorizing unixReviewTime based on statistics\n",
        "DF_test['time_category'] = pd.cut(DF_test['unixReviewTime'], [-np.inf, 1.127693e+09, 1.353715e+09, 1.428019e+09, np.inf],\n",
        "                              labels=['older_than_2006', '2006_2013', '2013_2015', '2015_present'])"
      ]
    },
    {
      "cell_type": "code",
      "execution_count": null,
      "metadata": {
        "colab": {
          "base_uri": "https://localhost:8080/",
          "height": 206
        },
        "id": "jW0U3xb6ofHv",
        "outputId": "d79c2f73-d991-47d4-c5c3-a1a7d98d20ae"
      },
      "outputs": [
        {
          "data": {
            "text/html": [
              "<div>\n",
              "<style scoped>\n",
              "    .dataframe tbody tr th:only-of-type {\n",
              "        vertical-align: middle;\n",
              "    }\n",
              "\n",
              "    .dataframe tbody tr th {\n",
              "        vertical-align: top;\n",
              "    }\n",
              "\n",
              "    .dataframe thead th {\n",
              "        text-align: right;\n",
              "    }\n",
              "</style>\n",
              "<table border=\"1\" class=\"dataframe\">\n",
              "  <thead>\n",
              "    <tr style=\"text-align: right;\">\n",
              "      <th></th>\n",
              "      <th>reviewTime</th>\n",
              "      <th>reviewerID</th>\n",
              "      <th>reviewText</th>\n",
              "      <th>summary</th>\n",
              "      <th>unixReviewTime</th>\n",
              "      <th>category</th>\n",
              "      <th>price</th>\n",
              "      <th>itemID</th>\n",
              "      <th>reviewHash</th>\n",
              "      <th>price_category</th>\n",
              "      <th>time_category</th>\n",
              "    </tr>\n",
              "  </thead>\n",
              "  <tbody>\n",
              "    <tr>\n",
              "      <th>0</th>\n",
              "      <td>02 11, 2017</td>\n",
              "      <td>u04140621</td>\n",
              "      <td>ok</td>\n",
              "      <td>Five Stars</td>\n",
              "      <td>1486771200</td>\n",
              "      <td>Pop</td>\n",
              "      <td>31.20</td>\n",
              "      <td>p65721979</td>\n",
              "      <td>98944233</td>\n",
              "      <td>very_high</td>\n",
              "      <td>2015_present</td>\n",
              "    </tr>\n",
              "    <tr>\n",
              "      <th>1</th>\n",
              "      <td>01 29, 2018</td>\n",
              "      <td>u74766187</td>\n",
              "      <td>The 1955 and 1958 sets alone are worth the pur...</td>\n",
              "      <td>Buy It For the 1955 Set With Monk!</td>\n",
              "      <td>1517184000</td>\n",
              "      <td>Jazz</td>\n",
              "      <td>34.04</td>\n",
              "      <td>p87809670</td>\n",
              "      <td>33903910</td>\n",
              "      <td>very_high</td>\n",
              "      <td>2015_present</td>\n",
              "    </tr>\n",
              "    <tr>\n",
              "      <th>2</th>\n",
              "      <td>08 29, 2005</td>\n",
              "      <td>u31689638</td>\n",
              "      <td>Mary J Blige is someone most people know of. S...</td>\n",
              "      <td>Mary's excellent debut! Classic!</td>\n",
              "      <td>1125273600</td>\n",
              "      <td>Pop</td>\n",
              "      <td>1.72</td>\n",
              "      <td>p52702240</td>\n",
              "      <td>35386470</td>\n",
              "      <td>low</td>\n",
              "      <td>older_than_2006</td>\n",
              "    </tr>\n",
              "    <tr>\n",
              "      <th>3</th>\n",
              "      <td>11 2, 2015</td>\n",
              "      <td>u35613516</td>\n",
              "      <td>Very good satch album</td>\n",
              "      <td>Four Stars</td>\n",
              "      <td>1446422400</td>\n",
              "      <td>Pop</td>\n",
              "      <td>10.99</td>\n",
              "      <td>p01314374</td>\n",
              "      <td>12404766</td>\n",
              "      <td>medium</td>\n",
              "      <td>2015_present</td>\n",
              "    </tr>\n",
              "    <tr>\n",
              "      <th>4</th>\n",
              "      <td>01 3, 2012</td>\n",
              "      <td>u93320378</td>\n",
              "      <td>Well there are hundreds of Christmas anthologi...</td>\n",
              "      <td>CD lives up to its name</td>\n",
              "      <td>1325548800</td>\n",
              "      <td>Alternative Rock</td>\n",
              "      <td>7.98</td>\n",
              "      <td>p84396269</td>\n",
              "      <td>68253688</td>\n",
              "      <td>medium</td>\n",
              "      <td>2006_2013</td>\n",
              "    </tr>\n",
              "  </tbody>\n",
              "</table>\n",
              "</div>"
            ],
            "text/plain": [
              "    reviewTime reviewerID  ... price_category    time_category\n",
              "0  02 11, 2017  u04140621  ...      very_high     2015_present\n",
              "1  01 29, 2018  u74766187  ...      very_high     2015_present\n",
              "2  08 29, 2005  u31689638  ...            low  older_than_2006\n",
              "3   11 2, 2015  u35613516  ...         medium     2015_present\n",
              "4   01 3, 2012  u93320378  ...         medium        2006_2013\n",
              "\n",
              "[5 rows x 11 columns]"
            ]
          },
          "execution_count": 34,
          "metadata": {
            "tags": []
          },
          "output_type": "execute_result"
        }
      ],
      "source": [
        "DF_test.head()"
      ]
    },
    {
      "cell_type": "markdown",
      "metadata": {
        "id": "0D437vCr5FeT"
      },
      "source": [
        "#### **1.1.4.2 Creating buckets for the \"unixReviewTime\" column in the training set**"
      ]
    },
    {
      "cell_type": "code",
      "execution_count": null,
      "metadata": {
        "id": "aTrOlK0EofKJ"
      },
      "outputs": [],
      "source": [
        "# converting unixReviewTime column to numerical values\n",
        "DF_train['unixReviewTime'] = pd.to_numeric(DF_train['unixReviewTime'])"
      ]
    },
    {
      "cell_type": "code",
      "execution_count": null,
      "metadata": {
        "colab": {
          "base_uri": "https://localhost:8080/",
          "height": 300
        },
        "id": "se2vM_aKofMs",
        "outputId": "0b375e60-80bf-4e31-e139-7d71b2475fff"
      },
      "outputs": [
        {
          "data": {
            "text/html": [
              "<div>\n",
              "<style scoped>\n",
              "    .dataframe tbody tr th:only-of-type {\n",
              "        vertical-align: middle;\n",
              "    }\n",
              "\n",
              "    .dataframe tbody tr th {\n",
              "        vertical-align: top;\n",
              "    }\n",
              "\n",
              "    .dataframe thead th {\n",
              "        text-align: right;\n",
              "    }\n",
              "</style>\n",
              "<table border=\"1\" class=\"dataframe\">\n",
              "  <thead>\n",
              "    <tr style=\"text-align: right;\">\n",
              "      <th></th>\n",
              "      <th>unixReviewTime</th>\n",
              "    </tr>\n",
              "  </thead>\n",
              "  <tbody>\n",
              "    <tr>\n",
              "      <th>count</th>\n",
              "      <td>1.478950e+05</td>\n",
              "    </tr>\n",
              "    <tr>\n",
              "      <th>mean</th>\n",
              "      <td>1.284875e+09</td>\n",
              "    </tr>\n",
              "    <tr>\n",
              "      <th>std</th>\n",
              "      <td>1.708878e+08</td>\n",
              "    </tr>\n",
              "    <tr>\n",
              "      <th>min</th>\n",
              "      <td>8.878464e+08</td>\n",
              "    </tr>\n",
              "    <tr>\n",
              "      <th>25%</th>\n",
              "      <td>1.129939e+09</td>\n",
              "    </tr>\n",
              "    <tr>\n",
              "      <th>50%</th>\n",
              "      <td>1.353542e+09</td>\n",
              "    </tr>\n",
              "    <tr>\n",
              "      <th>75%</th>\n",
              "      <td>1.427328e+09</td>\n",
              "    </tr>\n",
              "    <tr>\n",
              "      <th>max</th>\n",
              "      <td>1.537661e+09</td>\n",
              "    </tr>\n",
              "  </tbody>\n",
              "</table>\n",
              "</div>"
            ],
            "text/plain": [
              "       unixReviewTime\n",
              "count    1.478950e+05\n",
              "mean     1.284875e+09\n",
              "std      1.708878e+08\n",
              "min      8.878464e+08\n",
              "25%      1.129939e+09\n",
              "50%      1.353542e+09\n",
              "75%      1.427328e+09\n",
              "max      1.537661e+09"
            ]
          },
          "execution_count": 36,
          "metadata": {
            "tags": []
          },
          "output_type": "execute_result"
        }
      ],
      "source": [
        "DF_train[['unixReviewTime']].describe()"
      ]
    },
    {
      "cell_type": "code",
      "execution_count": null,
      "metadata": {
        "id": "bl8lPyRJK6hl"
      },
      "outputs": [],
      "source": [
        "# categorizing unixReviewTime based on statistics\n",
        "DF_train['time_category'] = pd.cut(DF_train['unixReviewTime'], [-np.inf, 1.129939e+09, 1.353542e+09, 1.427328e+09, np.inf],\n",
        "                              labels=['older_than_2006', '2006_2013', '2013_2015', '2015_present'])"
      ]
    },
    {
      "cell_type": "code",
      "execution_count": null,
      "metadata": {
        "colab": {
          "base_uri": "https://localhost:8080/",
          "height": 206
        },
        "id": "keNXmwrGsWDX",
        "outputId": "bf3ae80c-91a6-45f8-faeb-49841cb59c6b"
      },
      "outputs": [
        {
          "data": {
            "text/html": [
              "<div>\n",
              "<style scoped>\n",
              "    .dataframe tbody tr th:only-of-type {\n",
              "        vertical-align: middle;\n",
              "    }\n",
              "\n",
              "    .dataframe tbody tr th {\n",
              "        vertical-align: top;\n",
              "    }\n",
              "\n",
              "    .dataframe thead th {\n",
              "        text-align: right;\n",
              "    }\n",
              "</style>\n",
              "<table border=\"1\" class=\"dataframe\">\n",
              "  <thead>\n",
              "    <tr style=\"text-align: right;\">\n",
              "      <th></th>\n",
              "      <th>overall</th>\n",
              "      <th>reviewTime</th>\n",
              "      <th>reviewerID</th>\n",
              "      <th>reviewText</th>\n",
              "      <th>summary</th>\n",
              "      <th>unixReviewTime</th>\n",
              "      <th>category</th>\n",
              "      <th>price</th>\n",
              "      <th>itemID</th>\n",
              "      <th>reviewHash</th>\n",
              "      <th>price_category</th>\n",
              "      <th>time_category</th>\n",
              "    </tr>\n",
              "  </thead>\n",
              "  <tbody>\n",
              "    <tr>\n",
              "      <th>0</th>\n",
              "      <td>5.0</td>\n",
              "      <td>08 26, 2014</td>\n",
              "      <td>u92990698</td>\n",
              "      <td>A contemporary jazz and soul performer who's m...</td>\n",
              "      <td>\" CLASSIQUE \"</td>\n",
              "      <td>1409011200</td>\n",
              "      <td>Jazz</td>\n",
              "      <td>8.40</td>\n",
              "      <td>p23649501</td>\n",
              "      <td>3856620</td>\n",
              "      <td>medium</td>\n",
              "      <td>2013_2015</td>\n",
              "    </tr>\n",
              "    <tr>\n",
              "      <th>1</th>\n",
              "      <td>5.0</td>\n",
              "      <td>05 11, 2003</td>\n",
              "      <td>u36200649</td>\n",
              "      <td>Very good idea to put both the 'pop' and 'orch...</td>\n",
              "      <td>Exceeded my Expectations - This album RAWKS!</td>\n",
              "      <td>1052611200</td>\n",
              "      <td>Alternative Rock</td>\n",
              "      <td>10.98</td>\n",
              "      <td>p58458313</td>\n",
              "      <td>56086781</td>\n",
              "      <td>medium</td>\n",
              "      <td>older_than_2006</td>\n",
              "    </tr>\n",
              "    <tr>\n",
              "      <th>2</th>\n",
              "      <td>5.0</td>\n",
              "      <td>12 5, 2017</td>\n",
              "      <td>u10721702</td>\n",
              "      <td>This is a great collection of Carole King's so...</td>\n",
              "      <td>A Must-have for Carole King Fans</td>\n",
              "      <td>1512432000</td>\n",
              "      <td>Pop</td>\n",
              "      <td>5.99</td>\n",
              "      <td>p97027626</td>\n",
              "      <td>55852154</td>\n",
              "      <td>low</td>\n",
              "      <td>2015_present</td>\n",
              "    </tr>\n",
              "    <tr>\n",
              "      <th>3</th>\n",
              "      <td>5.0</td>\n",
              "      <td>09 24, 2013</td>\n",
              "      <td>u86003775</td>\n",
              "      <td>The is album is a brilliant piece of Jazz fusi...</td>\n",
              "      <td>A Master piece!</td>\n",
              "      <td>1379980800</td>\n",
              "      <td>Jazz</td>\n",
              "      <td>14.64</td>\n",
              "      <td>p43167086</td>\n",
              "      <td>43228100</td>\n",
              "      <td>high</td>\n",
              "      <td>2013_2015</td>\n",
              "    </tr>\n",
              "    <tr>\n",
              "      <th>4</th>\n",
              "      <td>5.0</td>\n",
              "      <td>01 14, 2015</td>\n",
              "      <td>u25672859</td>\n",
              "      <td>Waited a LONG time for this DVD to be released...</td>\n",
              "      <td>especially if you like concert videos</td>\n",
              "      <td>1421193600</td>\n",
              "      <td>Alternative Rock</td>\n",
              "      <td>9.92</td>\n",
              "      <td>p94494236</td>\n",
              "      <td>54425467</td>\n",
              "      <td>medium</td>\n",
              "      <td>2013_2015</td>\n",
              "    </tr>\n",
              "  </tbody>\n",
              "</table>\n",
              "</div>"
            ],
            "text/plain": [
              "   overall   reviewTime reviewerID  ... reviewHash price_category    time_category\n",
              "0      5.0  08 26, 2014  u92990698  ...    3856620         medium        2013_2015\n",
              "1      5.0  05 11, 2003  u36200649  ...   56086781         medium  older_than_2006\n",
              "2      5.0   12 5, 2017  u10721702  ...   55852154            low     2015_present\n",
              "3      5.0  09 24, 2013  u86003775  ...   43228100           high        2013_2015\n",
              "4      5.0  01 14, 2015  u25672859  ...   54425467         medium        2013_2015\n",
              "\n",
              "[5 rows x 12 columns]"
            ]
          },
          "execution_count": 37,
          "metadata": {
            "tags": []
          },
          "output_type": "execute_result"
        }
      ],
      "source": [
        "DF_train.head()"
      ]
    },
    {
      "cell_type": "markdown",
      "metadata": {
        "id": "FRLKVUSxqoja"
      },
      "source": [
        "## **1.2 Pre-Processing (Applying Cleaning Functions)**"
      ]
    },
    {
      "cell_type": "markdown",
      "metadata": {
        "id": "HduW7Q47rR5k"
      },
      "source": [
        "In any machine learning task, data cleaning and pre-processing is extremely important. As can be seen from dataset, the review texts are not in a suitable form for analysis and contain too much noise. \n",
        "\n",
        "Here, we intend to design a procedure that prepares text data for analysis by satisying the requirements. Some potential techniques can be as follows:\n",
        "\n",
        "- Removal of stop words\n",
        "- Removal of punctuations\n",
        "- Lower casing\n",
        "- Removal of URLs and HTML tags\n",
        "- Lemmatization"
      ]
    },
    {
      "cell_type": "code",
      "execution_count": null,
      "metadata": {
        "colab": {
          "base_uri": "https://localhost:8080/"
        },
        "id": "2sG10ieMsWAz",
        "outputId": "a91d95f5-f8b9-4ee0-ff66-5102b945ad93"
      },
      "outputs": [
        {
          "name": "stdout",
          "output_type": "stream",
          "text": [
            "[nltk_data] Downloading package punkt to /root/nltk_data...\n",
            "[nltk_data]   Package punkt is already up-to-date!\n"
          ]
        }
      ],
      "source": [
        "# Importing additional libraries for data cleaning and pre-processing\n",
        "import nltk\n",
        "nltk.download('punkt')\n",
        "import contractions\n",
        "from nltk.tokenize import word_tokenize, sent_tokenize, regexp_tokenize \n",
        "from nltk.stem import PorterStemmer, WordNetLemmatizer\n",
        "from nltk.stem.lancaster import LancasterStemmer\n",
        "from contractions import contractions_dict"
      ]
    },
    {
      "cell_type": "markdown",
      "metadata": {
        "id": "KFHB-HL_uXaT"
      },
      "source": [
        "### **1.2.1 Removal of HTML Tags**\n",
        "We can use BeautifulSoup package for removing HTML tags in a more elegant way."
      ]
    },
    {
      "cell_type": "code",
      "execution_count": null,
      "metadata": {
        "id": "azPmcZSCsRl2"
      },
      "outputs": [],
      "source": [
        "def strip_html(text):\n",
        "    soup = BeautifulSoup(text, \"html.parser\")\n",
        "    return soup.get_text()"
      ]
    },
    {
      "cell_type": "markdown",
      "metadata": {
        "id": "ifF-jGpHuki8"
      },
      "source": [
        "### **1.2.2 Removal of Between Square Brackets**"
      ]
    },
    {
      "cell_type": "code",
      "execution_count": null,
      "metadata": {
        "id": "tKzNdsuvsTc3"
      },
      "outputs": [],
      "source": [
        "def remove_between_square_brackets(text):\n",
        "    return re.sub('\\[[^]]*\\]', '', text)\n",
        "\n",
        "def denoise_text(text):\n",
        "    text = strip_html(text)\n",
        "    text = remove_between_square_brackets(text)\n",
        "    return text"
      ]
    },
    {
      "cell_type": "markdown",
      "metadata": {
        "id": "XSL6F-SDvliO"
      },
      "source": [
        "### **1.2.3 Removal of Special Characters**"
      ]
    },
    {
      "cell_type": "code",
      "execution_count": null,
      "metadata": {
        "id": "L-bEdAAIsmS_"
      },
      "outputs": [],
      "source": [
        "def remove_special_characters(text, remove_digits=True):\n",
        "    pattern = r'[^a-zA-z0-9\\s]' if not remove_digits else r'[^a-zA-z\\s]'\n",
        "    text = re.sub(pattern, '', text)\n",
        "    return text"
      ]
    },
    {
      "cell_type": "markdown",
      "metadata": {
        "id": "dzDhARkrvu15"
      },
      "source": [
        "### **1.2.4 Removal of Non-ASCII Characters**\n",
        "Removing non-ASCII characters results in a string that only contains ASCII characters. For example, removing non-ASCII characters from \"àa string withé fuünny charactersß\" results in \"a string with funny characters\"."
      ]
    },
    {
      "cell_type": "code",
      "execution_count": null,
      "metadata": {
        "id": "tm9hYXv6soVn"
      },
      "outputs": [],
      "source": [
        "def remove_non_ascii(words):\n",
        "    \"\"\"Remove non-ASCII characters from list of tokenized words\"\"\"\n",
        "    new_words = []\n",
        "    for word in words:\n",
        "        new_word = unicodedata.normalize('NFKD', word).encode('ascii', 'ignore').decode('utf-8', 'ignore')\n",
        "        new_words.append(new_word)\n",
        "    return new_words"
      ]
    },
    {
      "cell_type": "markdown",
      "metadata": {
        "id": "yiNVgd3jwL15"
      },
      "source": [
        "### **1.2.5 Lower Casing**\n",
        "\n",
        "It is a common text preprocessing technique. The idea is to convert the input text into same casing format so that 'text', 'Text' and 'TEXT' are treated the same way."
      ]
    },
    {
      "cell_type": "code",
      "execution_count": null,
      "metadata": {
        "id": "XqfH2KcBsqPw"
      },
      "outputs": [],
      "source": [
        "def to_lowercase(words):\n",
        "    \"\"\"Convert all characters to lowercase from list of tokenized words\"\"\"\n",
        "    new_words = []\n",
        "    for word in words:\n",
        "        new_word = word.lower()\n",
        "        new_words.append(new_word)\n",
        "    return new_words"
      ]
    },
    {
      "cell_type": "markdown",
      "metadata": {
        "id": "ckVijUIowa4s"
      },
      "source": [
        "### **1.2.6 Removal of Punctuations**"
      ]
    },
    {
      "cell_type": "code",
      "execution_count": null,
      "metadata": {
        "id": "axwigR2Ksrq-"
      },
      "outputs": [],
      "source": [
        "def remove_punctuation_and_splchars(words):\n",
        "    \"\"\"Remove punctuation from list of tokenized words\"\"\"\n",
        "    new_words = []\n",
        "    for word in words:\n",
        "        new_word = re.sub(r'[^\\w\\s]', '', word)\n",
        "        if new_word != '':\n",
        "            new_word = remove_special_characters(new_word, True)\n",
        "            new_words.append(new_word)\n",
        "    return new_words"
      ]
    },
    {
      "cell_type": "markdown",
      "metadata": {
        "id": "oLP1L36cwlff"
      },
      "source": [
        "### **1.2.7 Replacing Numbers**"
      ]
    },
    {
      "cell_type": "code",
      "execution_count": null,
      "metadata": {
        "id": "AaEbwPJ_stex"
      },
      "outputs": [],
      "source": [
        "def replace_numbers(words):\n",
        "    \"\"\"Replace all interger occurrences in list of tokenized words with textual representation\"\"\"\n",
        "    p = inflect.engine()\n",
        "    new_words = []\n",
        "    for word in words:\n",
        "        if word.isdigit():\n",
        "            new_word = p.number_to_words(word)\n",
        "            new_words.append(new_word)\n",
        "        else:\n",
        "            new_words.append(word)\n",
        "    return new_words"
      ]
    },
    {
      "cell_type": "markdown",
      "metadata": {
        "id": "Vvd8aTS5wqFJ"
      },
      "source": [
        "### **1.2.8 Removing StopWords**\n",
        "\n",
        "Stopwords are commonly occuring words in a language like 'the', 'a' and so on. They can be removed from the text, as they don't provide valuable information for downstream analysis."
      ]
    },
    {
      "cell_type": "code",
      "execution_count": null,
      "metadata": {
        "id": "o_4s_By1sw7R"
      },
      "outputs": [],
      "source": [
        "stopword_list= stopwords.words('english')\n",
        "stopword_list.remove('no')\n",
        "stopword_list.remove('not')\n",
        "\n",
        "\n",
        "def remove_stopwords(words):\n",
        "    \"\"\"Remove stop words from list of tokenized words\"\"\"\n",
        "    new_words = []\n",
        "    for word in words:\n",
        "        if word not in stopword_list:\n",
        "            new_words.append(word)\n",
        "    return new_words"
      ]
    },
    {
      "cell_type": "markdown",
      "metadata": {
        "id": "17o2PP7Jw1fh"
      },
      "source": [
        "### **1.2.9 Stemming**\n",
        "\n",
        "For grammatical reasons, documents are going to use different forms of a word, such as organize, organizes, and organizing. Additionally, there are families of derivationally related words with similar meanings, such as democracy, democratic, and democratization. In many situations, it seems as if it would be useful for a search for one of these words to return documents that contain another word in the set.\n",
        "\n",
        "The goal of both stemming and lemmatization is to reduce inflectional forms and sometimes derivationally related forms of a word to a common base form."
      ]
    },
    {
      "cell_type": "code",
      "execution_count": null,
      "metadata": {
        "id": "5rdFmIPUsy_o"
      },
      "outputs": [],
      "source": [
        "def stem_words(words):\n",
        "    \"\"\"Stem words in list of tokenized words\"\"\"\n",
        "    stemmer = LancasterStemmer()\n",
        "    stems = []\n",
        "    for word in words:\n",
        "        stem = stemmer.stem(word)\n",
        "        stems.append(stem)\n",
        "    return stems"
      ]
    },
    {
      "cell_type": "markdown",
      "metadata": {
        "id": "aTcu24MuxKRx"
      },
      "source": [
        "### **1.2.10 Lemmatization**"
      ]
    },
    {
      "cell_type": "code",
      "execution_count": null,
      "metadata": {
        "id": "2VP3c7oNs0ns"
      },
      "outputs": [],
      "source": [
        "def lemmatize_verbs(words):\n",
        "    \"\"\"Lemmatize verbs in list of tokenized words\"\"\"\n",
        "    lemmatizer = WordNetLemmatizer()\n",
        "    lemmas = []\n",
        "    for word in words:\n",
        "        lemma = lemmatizer.lemmatize(word, pos='v')\n",
        "        lemmas.append(lemma)\n",
        "    return lemmas\n",
        "\n",
        "def lemmatize(words):\n",
        "    lemmas = lemmatize_verbs(words)\n",
        "    return lemmas"
      ]
    },
    {
      "cell_type": "code",
      "execution_count": null,
      "metadata": {
        "id": "_saQMT95s2IC"
      },
      "outputs": [],
      "source": [
        "def normalize(words):\n",
        "    words = remove_non_ascii(words)\n",
        "    words = to_lowercase(words)\n",
        "    words = remove_punctuation_and_splchars(words)\n",
        "    words = remove_stopwords(words)\n",
        "    return words"
      ]
    },
    {
      "cell_type": "code",
      "execution_count": null,
      "metadata": {
        "id": "GWkatWDgsVz8"
      },
      "outputs": [],
      "source": [
        "def normalize_and_lemmatize(input):\n",
        "    sample = denoise_text(input)\n",
        "    sample = remove_special_characters(sample)\n",
        "    words = nltk.word_tokenize(sample)\n",
        "    words = normalize(words)\n",
        "    lemmas = lemmatize(words)\n",
        "    return ' '.join(lemmas)"
      ]
    },
    {
      "cell_type": "markdown",
      "metadata": {
        "id": "rKmKzYqQ4I6o"
      },
      "source": [
        "### **1.2.11 Applying the above functions on the training and test sets**"
      ]
    },
    {
      "cell_type": "code",
      "execution_count": null,
      "metadata": {
        "id": "fxVEWsZ46li_"
      },
      "outputs": [],
      "source": [
        "# Applying Cleaning functions defined above on Train dataset \n",
        "DF_train['reviewText_clean'] = DF_train['reviewText'].apply(lambda x: normalize_and_lemmatize(x))\n",
        "DF_train['summary_clean'] = DF_train['summary'].apply(lambda x: normalize_and_lemmatize(x))"
      ]
    },
    {
      "cell_type": "code",
      "execution_count": null,
      "metadata": {
        "colab": {
          "base_uri": "https://localhost:8080/",
          "height": 147
        },
        "id": "Ddn90ujsvL5V",
        "outputId": "7d4c6e7e-6ce8-4d2c-d65d-c8c8400cc8dd"
      },
      "outputs": [
        {
          "data": {
            "text/html": [
              "<div>\n",
              "<style scoped>\n",
              "    .dataframe tbody tr th:only-of-type {\n",
              "        vertical-align: middle;\n",
              "    }\n",
              "\n",
              "    .dataframe tbody tr th {\n",
              "        vertical-align: top;\n",
              "    }\n",
              "\n",
              "    .dataframe thead th {\n",
              "        text-align: right;\n",
              "    }\n",
              "</style>\n",
              "<table border=\"1\" class=\"dataframe\">\n",
              "  <thead>\n",
              "    <tr style=\"text-align: right;\">\n",
              "      <th></th>\n",
              "      <th>overall</th>\n",
              "      <th>reviewTime</th>\n",
              "      <th>reviewerID</th>\n",
              "      <th>reviewText</th>\n",
              "      <th>summary</th>\n",
              "      <th>unixReviewTime</th>\n",
              "      <th>category</th>\n",
              "      <th>price</th>\n",
              "      <th>itemID</th>\n",
              "      <th>reviewHash</th>\n",
              "      <th>price_category</th>\n",
              "      <th>time_category</th>\n",
              "      <th>reviewText_clean</th>\n",
              "      <th>summary_clean</th>\n",
              "    </tr>\n",
              "  </thead>\n",
              "  <tbody>\n",
              "    <tr>\n",
              "      <th>0</th>\n",
              "      <td>5.0</td>\n",
              "      <td>08 26, 2014</td>\n",
              "      <td>u92990698</td>\n",
              "      <td>A contemporary jazz and soul performer who's m...</td>\n",
              "      <td>\" CLASSIQUE \"</td>\n",
              "      <td>1409011200</td>\n",
              "      <td>Jazz</td>\n",
              "      <td>8.40</td>\n",
              "      <td>p23649501</td>\n",
              "      <td>3856620</td>\n",
              "      <td>medium</td>\n",
              "      <td>2013_2015</td>\n",
              "      <td>contemporary jazz soul performer whos make two...</td>\n",
              "      <td>classique</td>\n",
              "    </tr>\n",
              "    <tr>\n",
              "      <th>1</th>\n",
              "      <td>5.0</td>\n",
              "      <td>05 11, 2003</td>\n",
              "      <td>u36200649</td>\n",
              "      <td>Very good idea to put both the 'pop' and 'orch...</td>\n",
              "      <td>Exceeded my Expectations - This album RAWKS!</td>\n",
              "      <td>1052611200</td>\n",
              "      <td>Alternative Rock</td>\n",
              "      <td>10.98</td>\n",
              "      <td>p58458313</td>\n",
              "      <td>56086781</td>\n",
              "      <td>medium</td>\n",
              "      <td>older_than_2006</td>\n",
              "      <td>good idea put pop orchestral music matrix relo...</td>\n",
              "      <td>exceed expectations album rawks</td>\n",
              "    </tr>\n",
              "  </tbody>\n",
              "</table>\n",
              "</div>"
            ],
            "text/plain": [
              "   overall  ...                    summary_clean\n",
              "0      5.0  ...                        classique\n",
              "1      5.0  ...  exceed expectations album rawks\n",
              "\n",
              "[2 rows x 14 columns]"
            ]
          },
          "execution_count": 52,
          "metadata": {
            "tags": []
          },
          "output_type": "execute_result"
        }
      ],
      "source": [
        "DF_train.head(2)"
      ]
    },
    {
      "cell_type": "code",
      "execution_count": null,
      "metadata": {
        "id": "Iw22HZTMvTvt"
      },
      "outputs": [],
      "source": [
        "# Applying Cleaning functions defined above on Test dataset \n",
        "DF_test['reviewText_clean'] = DF_test['reviewText'].apply(lambda x: normalize_and_lemmatize(x))\n",
        "DF_test['summary_clean'] = DF_test['summary'].apply(lambda x: normalize_and_lemmatize(x))"
      ]
    },
    {
      "cell_type": "code",
      "execution_count": null,
      "metadata": {
        "colab": {
          "base_uri": "https://localhost:8080/",
          "height": 130
        },
        "id": "pAYgFcGsxsi8",
        "outputId": "54deac6b-de25-4a6a-808e-25a797183b2d"
      },
      "outputs": [
        {
          "data": {
            "text/html": [
              "<div>\n",
              "<style scoped>\n",
              "    .dataframe tbody tr th:only-of-type {\n",
              "        vertical-align: middle;\n",
              "    }\n",
              "\n",
              "    .dataframe tbody tr th {\n",
              "        vertical-align: top;\n",
              "    }\n",
              "\n",
              "    .dataframe thead th {\n",
              "        text-align: right;\n",
              "    }\n",
              "</style>\n",
              "<table border=\"1\" class=\"dataframe\">\n",
              "  <thead>\n",
              "    <tr style=\"text-align: right;\">\n",
              "      <th></th>\n",
              "      <th>reviewTime</th>\n",
              "      <th>reviewerID</th>\n",
              "      <th>reviewText</th>\n",
              "      <th>summary</th>\n",
              "      <th>unixReviewTime</th>\n",
              "      <th>category</th>\n",
              "      <th>price</th>\n",
              "      <th>itemID</th>\n",
              "      <th>reviewHash</th>\n",
              "      <th>price_category</th>\n",
              "      <th>time_category</th>\n",
              "      <th>reviewText_clean</th>\n",
              "      <th>summary_clean</th>\n",
              "    </tr>\n",
              "  </thead>\n",
              "  <tbody>\n",
              "    <tr>\n",
              "      <th>0</th>\n",
              "      <td>02 11, 2017</td>\n",
              "      <td>u04140621</td>\n",
              "      <td>ok</td>\n",
              "      <td>Five Stars</td>\n",
              "      <td>1486771200</td>\n",
              "      <td>Pop</td>\n",
              "      <td>31.20</td>\n",
              "      <td>p65721979</td>\n",
              "      <td>98944233</td>\n",
              "      <td>very_high</td>\n",
              "      <td>2015_present</td>\n",
              "      <td>ok</td>\n",
              "      <td>five star</td>\n",
              "    </tr>\n",
              "    <tr>\n",
              "      <th>1</th>\n",
              "      <td>01 29, 2018</td>\n",
              "      <td>u74766187</td>\n",
              "      <td>The 1955 and 1958 sets alone are worth the pur...</td>\n",
              "      <td>Buy It For the 1955 Set With Monk!</td>\n",
              "      <td>1517184000</td>\n",
              "      <td>Jazz</td>\n",
              "      <td>34.04</td>\n",
              "      <td>p87809670</td>\n",
              "      <td>33903910</td>\n",
              "      <td>very_high</td>\n",
              "      <td>2015_present</td>\n",
              "      <td>set alone worth purchase cost everything else ...</td>\n",
              "      <td>buy set monk</td>\n",
              "    </tr>\n",
              "  </tbody>\n",
              "</table>\n",
              "</div>"
            ],
            "text/plain": [
              "    reviewTime  ... summary_clean\n",
              "0  02 11, 2017  ...     five star\n",
              "1  01 29, 2018  ...  buy set monk\n",
              "\n",
              "[2 rows x 13 columns]"
            ]
          },
          "execution_count": 54,
          "metadata": {
            "tags": []
          },
          "output_type": "execute_result"
        }
      ],
      "source": [
        "DF_test.head(2)"
      ]
    },
    {
      "cell_type": "markdown",
      "metadata": {
        "id": "aVvU_gtGWEg_"
      },
      "source": [
        "# **2 Exploratory Data Analysis** "
      ]
    },
    {
      "cell_type": "markdown",
      "metadata": {
        "id": "WjeowqpyPQyI"
      },
      "source": [
        "### **2.1 Exploring target column**"
      ]
    },
    {
      "cell_type": "markdown",
      "metadata": {
        "id": "JSlaC2vHvphE"
      },
      "source": [
        "The frequency distribution of the review’s rating shows that users rated music mainly on a scale of 5 star where the number of occurrences was around 95000, while the other occurrence of music rating was mostly positive. See figure below for further details.\n"
      ]
    },
    {
      "cell_type": "code",
      "execution_count": null,
      "metadata": {
        "colab": {
          "base_uri": "https://localhost:8080/"
        },
        "id": "1W6l3vyGPZJV",
        "outputId": "16f8e04f-620a-4f60-9387-dc735a1e49f9"
      },
      "outputs": [
        {
          "data": {
            "text/plain": [
              "count    147895.000000\n",
              "mean          4.411197\n",
              "std           0.994805\n",
              "min           1.000000\n",
              "25%           4.000000\n",
              "50%           5.000000\n",
              "75%           5.000000\n",
              "max           5.000000\n",
              "Name: overall, dtype: float64"
            ]
          },
          "execution_count": 63,
          "metadata": {
            "tags": []
          },
          "output_type": "execute_result"
        }
      ],
      "source": [
        "DF_train['overall'].describe()"
      ]
    },
    {
      "cell_type": "code",
      "execution_count": null,
      "metadata": {
        "colab": {
          "base_uri": "https://localhost:8080/"
        },
        "id": "rc3RxMXyQBxo",
        "outputId": "d7d1f683-d62b-4c21-b777-798414eac9dd"
      },
      "outputs": [
        {
          "data": {
            "text/plain": [
              "5.0    96994\n",
              "4.0    29163\n",
              "3.0    11951\n",
              "2.0     5132\n",
              "1.0     4655\n",
              "Name: overall, dtype: int64"
            ]
          },
          "execution_count": 64,
          "metadata": {
            "tags": []
          },
          "output_type": "execute_result"
        }
      ],
      "source": [
        "DF_train['overall'].value_counts()"
      ]
    },
    {
      "cell_type": "code",
      "execution_count": null,
      "metadata": {
        "id": "b8B0osijPno4"
      },
      "outputs": [],
      "source": [
        "#Exploring Target Variable\n",
        "ratings = DF_train['overall']\n",
        "ratings_dis = ratings.value_counts()"
      ]
    },
    {
      "cell_type": "code",
      "execution_count": null,
      "metadata": {
        "colab": {
          "base_uri": "https://localhost:8080/",
          "height": 296
        },
        "id": "-1jAqqSwPrLn",
        "outputId": "927ab57c-3ea4-43c6-c3ba-a6d65c32e3a7"
      },
      "outputs": [
        {
          "data": {
            "image/png": "[encoded data removed]",
            "text/plain": [
              "<Figure size 432x288 with 1 Axes>"
            ]
          },
          "metadata": {
            "tags": []
          },
          "output_type": "display_data"
        }
      ],
      "source": [
        "sns.set(style=\"darkgrid\")\n",
        "sns.barplot(ratings_dis.index, ratings_dis.values, alpha=0.9)\n",
        "plt.title('Frequency Distribution of Overall Ratings Column')\n",
        "plt.ylabel('Number of Occurrences', fontsize=12)\n",
        "plt.xticks(fontsize=9)\n",
        "plt.xlabel('Rating', fontsize=9)\n",
        "plt.show()"
      ]
    },
    {
      "cell_type": "markdown",
      "metadata": {
        "id": "2aWv5EUb2oLS"
      },
      "source": [
        "### **2.2 Visualising text columns**"
      ]
    },
    {
      "cell_type": "markdown",
      "metadata": {
        "id": "xOTGOI8QvM7Q"
      },
      "source": [
        "The word cloud was plotted to see which words or phrases are being used the most in the reviewtext_clean and summary_clean. Some of the most popular words in the reviewtext_clean column were album, classique, original, one, love,etc. \n",
        "\n",
        "While for the summary_clean column the most popular words are album, exceed, carole, classique, expectations, etc."
      ]
    },
    {
      "cell_type": "code",
      "execution_count": null,
      "metadata": {
        "colab": {
          "base_uri": "https://localhost:8080/",
          "height": 366
        },
        "id": "MWId1O8g1UYN",
        "outputId": "edaed947-7f47-40fb-ba97-d9d6be3b1039"
      },
      "outputs": [
        {
          "data": {
            "image/png": "[encoded data removed]",
            "text/plain": [
              "<Figure size 864x720 with 1 Axes>"
            ]
          },
          "metadata": {
            "tags": []
          },
          "output_type": "display_data"
        }
      ],
      "source": [
        "#Generating wordcloud figure for cleaned reviews in the training df\n",
        "review_vis = DF_train['reviewText_clean'].values\n",
        "wordcloud = WordCloud(width=1600, height=800,max_font_size=200,random_state=0,colormap='magma').generate(str(review_vis))\n",
        "plt.figure(figsize=(12,10))\n",
        "plt.imshow(wordcloud, interpolation='bilinear')\n",
        "plt.axis(\"off\")\n",
        "plt.show()"
      ]
    },
    {
      "cell_type": "code",
      "execution_count": null,
      "metadata": {
        "colab": {
          "base_uri": "https://localhost:8080/",
          "height": 366
        },
        "id": "zIkbXWyV24fF",
        "outputId": "225b0720-19c1-4d05-ce99-dfe8c13ac86b"
      },
      "outputs": [
        {
          "data": {
            "image/png": "[encoded data removed]",
            "text/plain": [
              "<Figure size 864x720 with 1 Axes>"
            ]
          },
          "metadata": {
            "tags": []
          },
          "output_type": "display_data"
        }
      ],
      "source": [
        "#Generating wordcloud figure for cleaned summaries in the training df\n",
        "summary_vis = DF_train['summary_clean'].values\n",
        "wordcloud = WordCloud(width=1600, height=800,random_state=0,max_font_size=200).generate(str(summary_vis))\n",
        "plt.figure(figsize=(12,10))\n",
        "plt.imshow(wordcloud, interpolation='bilinear')\n",
        "plt.axis(\"off\")\n",
        "plt.show()"
      ]
    },
    {
      "cell_type": "markdown",
      "metadata": {
        "id": "1mrlA9ZG4B0k"
      },
      "source": [
        "### **2.3 Exploring trends between features**"
      ]
    },
    {
      "cell_type": "markdown",
      "metadata": {
        "id": "5oTiO5jdGW-F"
      },
      "source": [
        "Exploring the price categorization of different genres of music, we can see that the price range of Pop, Alternative Rock, and Dance & Electronic music is distributed more towards the lower and medium price range, while Jazz and Classical are considered more expensive type of genres from the data. Pop can be seen  as the most popular genre in the last decade at the expense of alternative rock which has been declining in popularity since 2006. Jazz and Classical are growing in popularity but at a very minor pace. "
      ]
    },
    {
      "cell_type": "code",
      "execution_count": null,
      "metadata": {
        "colab": {
          "base_uri": "https://localhost:8080/"
        },
        "id": "AjK72Pj34FJi",
        "outputId": "300ca960-a708-4af9-ccda-549d2fb836c9"
      },
      "outputs": [
        {
          "data": {
            "text/plain": [
              "Pop                   67963\n",
              "Alternative Rock      42022\n",
              "Jazz                  14691\n",
              "Classical             13915\n",
              "Dance & Electronic     9304\n",
              "Name: category, dtype: int64"
            ]
          },
          "execution_count": 69,
          "metadata": {
            "tags": []
          },
          "output_type": "execute_result"
        }
      ],
      "source": [
        "DF_train.category.value_counts()"
      ]
    },
    {
      "cell_type": "code",
      "execution_count": null,
      "metadata": {
        "colab": {
          "base_uri": "https://localhost:8080/"
        },
        "id": "V4tZLB_j4sYm",
        "outputId": "62f48f3e-36ef-4d1d-c3ce-5e5addd296a6"
      },
      "outputs": [
        {
          "data": {
            "text/plain": [
              "high         37674\n",
              "medium       37030\n",
              "low          36982\n",
              "very_high    36209\n",
              "Name: price_category, dtype: int64"
            ]
          },
          "execution_count": 70,
          "metadata": {
            "tags": []
          },
          "output_type": "execute_result"
        }
      ],
      "source": [
        "DF_train.price_category.value_counts()"
      ]
    },
    {
      "cell_type": "code",
      "execution_count": null,
      "metadata": {
        "colab": {
          "base_uri": "https://localhost:8080/"
        },
        "id": "qEsbC2aVCBK9",
        "outputId": "277ceb2d-7f08-4587-c6c7-3cbfc487af67"
      },
      "outputs": [
        {
          "data": {
            "text/plain": [
              "2013_2015          36988\n",
              "2006_2013          36973\n",
              "2015_present       36967\n",
              "older_than_2006    36967\n",
              "Name: time_category, dtype: int64"
            ]
          },
          "execution_count": 71,
          "metadata": {
            "tags": []
          },
          "output_type": "execute_result"
        }
      ],
      "source": [
        "DF_train.time_category.value_counts()"
      ]
    },
    {
      "cell_type": "code",
      "execution_count": null,
      "metadata": {
        "id": "GqUDRg1dVV1S"
      },
      "outputs": [],
      "source": [
        "#Contructing data for plotting\n",
        "\n",
        "pop_vis = DF_train[DF_train['category'] == 'Pop']\n",
        "pop_low = len(pop_vis[pop_vis['price_category'] == 'low'])\n",
        "pop_mid = len(pop_vis[pop_vis['price_category'] == 'medium'])\n",
        "pop_high = len(pop_vis[pop_vis['price_category'] == 'high'])\n",
        "pop_vhigh = len(pop_vis[pop_vis['price_category'] == 'very_high'])\n",
        "\n",
        "alt_rock_vis = DF_train[DF_train['category'] == 'Alternative Rock']\n",
        "alt_rock_low = len(alt_rock_vis[alt_rock_vis['price_category'] == 'low'])\n",
        "alt_rock_mid = len(alt_rock_vis[alt_rock_vis['price_category'] == 'medium'])\n",
        "alt_rock_high = len(alt_rock_vis[alt_rock_vis['price_category'] == 'high'])\n",
        "alt_rock_vhigh = len(alt_rock_vis[alt_rock_vis['price_category'] == 'very_high'])\n",
        "\n",
        "jazz_vis = DF_train[DF_train['category'] == 'Jazz']\n",
        "jazz_low = len(jazz_vis[jazz_vis['price_category'] == 'low'])\n",
        "jazz_mid = len(jazz_vis[jazz_vis['price_category'] == 'medium'])\n",
        "jazz_high = len(jazz_vis[jazz_vis['price_category'] == 'high'])\n",
        "jazz_vhigh = len(jazz_vis[jazz_vis['price_category'] == 'very_high'])\n",
        "\n",
        "classical_vis = DF_train[DF_train['category'] == 'Classical']\n",
        "classical_low = len(classical_vis[classical_vis['price_category'] == 'low'])\n",
        "classical_mid = len(classical_vis[classical_vis['price_category'] == 'medium'])\n",
        "classical_high = len(classical_vis[classical_vis['price_category'] == 'high'])\n",
        "classical_vhigh = len(classical_vis[classical_vis['price_category'] == 'very_high'])\n",
        "\n",
        "dne_vis = DF_train[DF_train['category'] == 'Dance & Electronic']\n",
        "dne_low = len(dne_vis[dne_vis['price_category'] == 'low'])\n",
        "dne_mid = len(dne_vis[dne_vis['price_category'] == 'medium'])\n",
        "dne_high = len(dne_vis[dne_vis['price_category'] == 'high'])\n",
        "dne_vhigh = len(dne_vis[dne_vis['price_category'] == 'very_high'])\n",
        "\n",
        "\n",
        "low = [pop_low, alt_rock_low, jazz_low, classical_low, dne_low]\n",
        "medium = [pop_mid, alt_rock_mid, jazz_mid, classical_mid, dne_mid]\n",
        "high = [pop_high, alt_rock_high, jazz_high, classical_high, dne_high]\n",
        "very_high = [pop_vhigh, alt_rock_vhigh, jazz_vhigh, classical_vhigh, dne_vhigh]"
      ]
    },
    {
      "cell_type": "code",
      "execution_count": null,
      "metadata": {
        "colab": {
          "base_uri": "https://localhost:8080/",
          "height": 293
        },
        "id": "eOxttOgBVaDr",
        "outputId": "80afcc36-84c6-48aa-b84e-8dfb3d8e57ff"
      },
      "outputs": [
        {
          "data": {
            "image/png": "[encoded data removed]",
            "text/plain": [
              "<Figure size 432x288 with 1 Axes>"
            ]
          },
          "metadata": {
            "tags": []
          },
          "output_type": "display_data"
        }
      ],
      "source": [
        "#Plotting the bar chart\n",
        "fig, ax = plt.subplots()\n",
        "idx = np.arange(5)\n",
        "bar_width = 0.2\n",
        "opacity = 0.88\n",
        "\n",
        "plt.bar(idx-bar_width, low, bar_width, alpha=opacity, \n",
        "        color='black', label='Low')\n",
        "\n",
        "plt.bar(idx, medium, bar_width, alpha=opacity, \n",
        "         color='red', label='Medium')\n",
        "\n",
        "plt.bar(idx + bar_width, high, bar_width, alpha=opacity, \n",
        "        color='blue', edgecolor='white', label='High')\n",
        "\n",
        "plt.bar(idx + 2*bar_width, very_high, bar_width, alpha=opacity,\n",
        "        color='cyan', edgecolor='white', label='Very High')\n",
        "\n",
        "plt.xlabel('Genre')\n",
        "plt.ylabel('Frequency Count')\n",
        "plt.title('Price categories for the different genres of music')\n",
        "plt.xticks(idx + bar_width/2, ('Pop', 'Alternative Rock', 'Jazz', 'Classical', 'EDM'))\n",
        "plt.legend()\n",
        "\n",
        "plt.tight_layout()\n",
        "plt.show()"
      ]
    },
    {
      "cell_type": "code",
      "execution_count": null,
      "metadata": {
        "id": "DRH5ePQiIzSj"
      },
      "outputs": [],
      "source": [
        "#Contructing data for plotting\n",
        "\n",
        "pop_vis_time = DF_train[DF_train['category'] == 'Pop']\n",
        "pop_pre06 = len(pop_vis_time[pop_vis_time['time_category'] == 'older_than_2006'])\n",
        "pop_0613 = len(pop_vis_time[pop_vis_time['time_category'] == '2006_2013'])\n",
        "pop_1315 = len(pop_vis_time[pop_vis_time['time_category'] == '2013_2015'])\n",
        "pop_15pres = len(pop_vis_time[pop_vis_time['time_category'] == '2015_present'])\n",
        "\n",
        "alt_rock_vis_time = DF_train[DF_train['category'] == 'Alternative Rock']\n",
        "alt_rock_pre06 = len(alt_rock_vis_time[alt_rock_vis_time['time_category'] == 'older_than_2006'])\n",
        "alt_rock_0613 = len(alt_rock_vis_time[alt_rock_vis_time['time_category'] == '2006_2013'])\n",
        "alt_rock_1315 = len(alt_rock_vis_time[alt_rock_vis_time['time_category'] == '2013_2015'])\n",
        "alt_rock_15pres = len(alt_rock_vis_time[alt_rock_vis_time['time_category'] == '2015_present'])\n",
        "\n",
        "jazz_vis_time = DF_train[DF_train['category'] == 'Jazz']\n",
        "jazz_pre06 = len(jazz_vis_time[jazz_vis_time['time_category'] == 'older_than_2006'])\n",
        "jazz_0613 = len(jazz_vis_time[jazz_vis_time['time_category'] == '2006_2013'])\n",
        "jazz_1315 = len(jazz_vis_time[jazz_vis_time['time_category'] == '2013_2015'])\n",
        "jazz_15pres = len(jazz_vis_time[jazz_vis_time['time_category'] == '2015_present'])\n",
        "\n",
        "classical_vis_time = DF_train[DF_train['category'] == 'Classical']\n",
        "classical_pre06 = len(classical_vis_time[classical_vis_time['time_category'] == 'older_than_2006'])\n",
        "classical_0613 = len(classical_vis_time[classical_vis_time['time_category'] == '2006_2013'])\n",
        "classical_1315 = len(classical_vis_time[classical_vis_time['time_category'] == '2013_2015'])\n",
        "classical_15pres = len(classical_vis_time[classical_vis_time['time_category'] == '2015_present'])\n",
        "\n",
        "dne_vis_time = DF_train[DF_train['category'] == 'Dance & Electronic']\n",
        "dne_pre06 = len(dne_vis_time[dne_vis_time['time_category'] == 'older_than_2006'])\n",
        "dne_0613 = len(dne_vis_time[dne_vis_time['time_category'] == '2006_2013'])\n",
        "dne_1315 = len(dne_vis_time[dne_vis_time['time_category'] == '2013_2015'])\n",
        "dne_15pres = len(dne_vis_time[dne_vis_time['time_category'] == '2015_present'])\n",
        "\n",
        "\n",
        "pre06 = [pop_pre06, alt_rock_pre06, jazz_pre06, classical_pre06, dne_pre06]\n",
        "btwn0613 = [pop_0613, alt_rock_0613, jazz_0613, classical_0613, dne_0613]\n",
        "btwn1315 = [pop_1315, alt_rock_1315, jazz_1315, classical_1315, dne_1315]\n",
        "post15 = [pop_15pres, alt_rock_15pres, jazz_15pres, classical_15pres, dne_15pres]"
      ]
    },
    {
      "cell_type": "code",
      "execution_count": null,
      "metadata": {
        "colab": {
          "base_uri": "https://localhost:8080/",
          "height": 293
        },
        "id": "cSF3khU_I_mf",
        "outputId": "05433967-a24c-4d8a-85fb-c48b88431dda"
      },
      "outputs": [
        {
          "data": {
            "image/png": "[encoded data removed]",
            "text/plain": [
              "<Figure size 432x288 with 1 Axes>"
            ]
          },
          "metadata": {
            "tags": []
          },
          "output_type": "display_data"
        }
      ],
      "source": [
        "#Plotting the bar chart\n",
        "fig, ax = plt.subplots()\n",
        "idx = np.arange(5)\n",
        "bar_width = 0.2\n",
        "opacity = 0.88\n",
        "\n",
        "plt.bar(idx-bar_width, pre06, bar_width, alpha=opacity, \n",
        "        color='black', label='older_than_2006')\n",
        "\n",
        "plt.bar(idx, btwn0613, bar_width, alpha=opacity, \n",
        "         color='red', label='2006_2013')\n",
        "\n",
        "plt.bar(idx + bar_width, btwn1315, bar_width, alpha=opacity, \n",
        "        color='green', edgecolor='white', label='2013_2015')\n",
        "\n",
        "plt.bar(idx + 2*bar_width, post15, bar_width, alpha=opacity,\n",
        "        color='blue', edgecolor='white', label='2015_present')\n",
        "\n",
        "plt.xlabel('Genre')\n",
        "plt.ylabel('Frequency Count')\n",
        "plt.title('Popularity of different genres across different time periods')\n",
        "plt.xticks(idx + bar_width/2, ('Pop', 'Alternative Rock', 'Jazz', 'Classical', 'EDM'))\n",
        "plt.legend()\n",
        "\n",
        "plt.tight_layout()\n",
        "plt.show()"
      ]
    },
    {
      "cell_type": "markdown",
      "metadata": {
        "id": "jTbL4_6uWdOn"
      },
      "source": [
        "### **2.4 Visualising order of feature importance**"
      ]
    },
    {
      "cell_type": "markdown",
      "metadata": {
        "id": "2PweQvbpAHvf"
      },
      "source": [
        "From the non-textual features, the most important features with respect to predicting the rating of a record, were deduced by calculating the correlation between all the feature columns and the target column (rating). The most important features in order of feture importance (correlation score) were found to be: unixReviewTime, price, reviewHash"
      ]
    },
    {
      "cell_type": "code",
      "execution_count": null,
      "metadata": {
        "colab": {
          "base_uri": "https://localhost:8080/",
          "height": 632
        },
        "id": "K61NkiRLWeOn",
        "outputId": "4e8f69d7-d287-4cad-a810-35a38172b4f3"
      },
      "outputs": [
        {
          "data": {
            "image/png": "[encoded data removed]",
            "text/plain": [
              "<Figure size 720x720 with 2 Axes>"
            ]
          },
          "metadata": {
            "tags": []
          },
          "output_type": "display_data"
        }
      ],
      "source": [
        "#Deriving Correlation Matrix\n",
        "corr_mat = DF_train.corr()\n",
        "\n",
        "#Finding correlations to rating column\n",
        "ratings_corr = corr_mat[\"overall\"]\n",
        "\n",
        "#Identifying most important features\n",
        "most_imp = list(ratings_corr.nlargest().index)\n",
        "\n",
        "#Plotting Correlation Matrix\n",
        "c = corr_mat.loc[most_imp, most_imp]\n",
        "fig = plt.figure(figsize=(10,10))\n",
        "ax = fig.add_subplot(111)\n",
        "cax = ax.matshow(c, vmin=0, vmax=1,cmap=plt.cm.Blues)\n",
        "fig.colorbar(cax)\n",
        "ticks = np.arange(0,len(ratings_corr),1)\n",
        "ax.set_xticks(ticks)\n",
        "ax.set_yticks(ticks)\n",
        "ax.set_xticklabels(c.index,rotation=90)\n",
        "ax.set_yticklabels(c.index)\n",
        "plt.show()"
      ]
    },
    {
      "cell_type": "code",
      "execution_count": null,
      "metadata": {
        "colab": {
          "base_uri": "https://localhost:8080/"
        },
        "id": "_Zew6HD3g4Vf",
        "outputId": "beaca4de-d2af-4974-cd4d-1daa1cb0513f"
      },
      "outputs": [
        {
          "data": {
            "text/plain": [
              "overall           1.000000\n",
              "unixReviewTime    0.151206\n",
              "price             0.024311\n",
              "reviewHash        0.003663\n",
              "Name: overall, dtype: float64"
            ]
          },
          "execution_count": 77,
          "metadata": {
            "tags": []
          },
          "output_type": "execute_result"
        }
      ],
      "source": [
        "ratings_corr"
      ]
    },
    {
      "cell_type": "markdown",
      "metadata": {
        "id": "vuhQ1eS7n_9Z"
      },
      "source": [
        "The relationships between the category (genre), price category, and time category were further investigated to understand their influence on the rating received"
      ]
    },
    {
      "cell_type": "code",
      "execution_count": null,
      "metadata": {
        "colab": {
          "base_uri": "https://localhost:8080/"
        },
        "id": "kvBx_kCUjVUE",
        "outputId": "cbc8182b-adcb-461a-e576-e12e800ea258"
      },
      "outputs": [
        {
          "data": {
            "text/plain": [
              "category\n",
              "Alternative Rock      4.295893\n",
              "Classical             4.519727\n",
              "Dance & Electronic    4.422506\n",
              "Jazz                  4.541488\n",
              "Pop                   4.430558\n",
              "Name: overall, dtype: float64"
            ]
          },
          "execution_count": 78,
          "metadata": {
            "tags": []
          },
          "output_type": "execute_result"
        }
      ],
      "source": [
        "DF_train.overall.groupby(DF_train[\"category\"]).mean()"
      ]
    },
    {
      "cell_type": "code",
      "execution_count": null,
      "metadata": {
        "colab": {
          "base_uri": "https://localhost:8080/",
          "height": 448
        },
        "id": "pb7VZWbajlcF",
        "outputId": "905dfca1-df77-430e-ba09-7529506b41f5"
      },
      "outputs": [
        {
          "data": {
            "image/png": "[encoded data removed]",
            "text/plain": [
              "<Figure size 720x504 with 1 Axes>"
            ]
          },
          "metadata": {
            "tags": []
          },
          "output_type": "display_data"
        }
      ],
      "source": [
        "plt.figure(figsize=(10,7))\n",
        "sns.boxplot(x='category', y='overall', data=DF_train)\n",
        "plt.show()"
      ]
    },
    {
      "cell_type": "markdown",
      "metadata": {
        "id": "gEicek4ejXKA"
      },
      "source": [
        "No real correlation between category (genre) and the ratings received, as all genres received an average rating over 4, as seen above"
      ]
    },
    {
      "cell_type": "code",
      "execution_count": null,
      "metadata": {
        "colab": {
          "base_uri": "https://localhost:8080/"
        },
        "id": "TlXiffERn7pG",
        "outputId": "6684f60a-d038-4ad8-bc77-df8be8573d56"
      },
      "outputs": [
        {
          "data": {
            "text/plain": [
              "price_category\n",
              "low          4.358309\n",
              "medium       4.395760\n",
              "high         4.428518\n",
              "very_high    4.462979\n",
              "Name: overall, dtype: float64"
            ]
          },
          "execution_count": 80,
          "metadata": {
            "tags": []
          },
          "output_type": "execute_result"
        }
      ],
      "source": [
        "DF_train.overall.groupby(DF_train[\"price_category\"]).mean()"
      ]
    },
    {
      "cell_type": "markdown",
      "metadata": {
        "id": "pC5XPcYspAWt"
      },
      "source": [
        "No real correlation between price category and the ratings received, as all price categories received an average rating over 4, as seen in the cell above"
      ]
    },
    {
      "cell_type": "code",
      "execution_count": null,
      "metadata": {
        "colab": {
          "base_uri": "https://localhost:8080/"
        },
        "id": "dd6ossbipVqK",
        "outputId": "8c01f6eb-57eb-4071-ae3d-e4497fee7ac6"
      },
      "outputs": [
        {
          "data": {
            "text/plain": [
              "time_category\n",
              "older_than_2006    4.234561\n",
              "2006_2013          4.254185\n",
              "2013_2015          4.536606\n",
              "2015_present       4.619390\n",
              "Name: overall, dtype: float64"
            ]
          },
          "execution_count": 81,
          "metadata": {
            "tags": []
          },
          "output_type": "execute_result"
        }
      ],
      "source": [
        "DF_train.overall.groupby(DF_train[\"time_category\"]).mean()"
      ]
    },
    {
      "cell_type": "markdown",
      "metadata": {
        "id": "o9V88Rsq_rot"
      },
      "source": [
        "No real correlation between time category and the ratings received, as all time periods received an average rating over 4, as seen in the cell above"
      ]
    },
    {
      "cell_type": "markdown",
      "metadata": {
        "id": "6K2cNEEKUbbj"
      },
      "source": [
        "### **2.5 Visualising Ratings Review Text Length Distribution**"
      ]
    },
    {
      "cell_type": "code",
      "execution_count": null,
      "metadata": {
        "colab": {
          "base_uri": "https://localhost:8080/"
        },
        "id": "lf9zmtXrU0ci",
        "outputId": "09223af2-9d12-43d0-f216-2ea56fee6bef"
      },
      "outputs": [
        {
          "data": {
            "text/plain": [
              "count    147895.000000\n",
              "mean        446.967592\n",
              "std         635.354328\n",
              "min           0.000000\n",
              "25%          63.000000\n",
              "50%         221.000000\n",
              "75%         583.000000\n",
              "max       17378.000000\n",
              "Name: length, dtype: float64"
            ]
          },
          "execution_count": 76,
          "metadata": {
            "tags": []
          },
          "output_type": "execute_result"
        }
      ],
      "source": [
        "DF_train['length'] = DF_train['reviewText_clean'].apply(len)\n",
        "DF_train.length.describe()"
      ]
    },
    {
      "cell_type": "code",
      "execution_count": null,
      "metadata": {
        "colab": {
          "base_uri": "https://localhost:8080/",
          "height": 448
        },
        "id": "oZb2HyqukKea",
        "outputId": "4dc5ada0-a329-4003-c402-6af00accc1b4"
      },
      "outputs": [
        {
          "data": {
            "image/png": "[encoded data removed]",
            "text/plain": [
              "<Figure size 720x504 with 1 Axes>"
            ]
          },
          "metadata": {
            "tags": []
          },
          "output_type": "display_data"
        }
      ],
      "source": [
        "plt.figure(figsize=(10,7))\n",
        "sns.boxplot(x='overall', y='length', data=DF_train)\n",
        "plt.show()"
      ]
    },
    {
      "cell_type": "markdown",
      "metadata": {
        "id": "5OqNwuAllCQk"
      },
      "source": [
        "The higher ratings appear to have longer reviews"
      ]
    },
    {
      "cell_type": "markdown",
      "metadata": {
        "id": "y0QtlZT1Luxb"
      },
      "source": [
        "# **3 Feature Extraction, Engineering and Preprocessing** "
      ]
    },
    {
      "cell_type": "markdown",
      "metadata": {
        "id": "lYINKRnUWuSz"
      },
      "source": [
        "### **3.1 One-Hot Encoding of Categorical Features**\n",
        "The following 2 features in our dataset are categorical and therefore will be one-hot encoded:\n",
        " - category\n",
        " - time_category"
      ]
    },
    {
      "cell_type": "code",
      "execution_count": null,
      "metadata": {
        "id": "I5X9IGWUGIlF"
      },
      "outputs": [],
      "source": [
        "# ohe of 'category' and 'time_category'\n",
        "# train \n",
        "dummy = pd.get_dummies(data=DF_train[['category', 'time_category']], prefix=['category', 'time_category'], drop_first=True)\n",
        "DF_train_clean = pd.concat([DF_train, dummy], axis=1)\n",
        "DF_train_clean.drop(columns=['category', 'time_category'], axis=1, inplace=True)\n",
        "\n",
        "# test\n",
        "dummy = pd.get_dummies(data=DF_test[['category', 'time_category']], prefix=['category', 'time_category'], drop_first=True)\n",
        "DF_test_clean = pd.concat([DF_test, dummy], axis=1)\n",
        "DF_test_clean.drop(columns=['category', 'time_category'], axis=1, inplace=True)"
      ]
    },
    {
      "cell_type": "markdown",
      "metadata": {
        "id": "oQXVIpAdZNLt"
      },
      "source": [
        "### **3.2 Ordinal Encoding of Categories with Order**\n",
        "The price_category follows a nominal order, that is low, medium, high, very high. Hence, this will be mapped in a nominal fashion. "
      ]
    },
    {
      "cell_type": "code",
      "execution_count": null,
      "metadata": {
        "id": "eP1gNP3_ZdcA"
      },
      "outputs": [],
      "source": [
        "# train\n",
        "price_ranking = {'low': 1, 'medium': 2, 'high': 3, 'very_high': 4}\n",
        "DF_train_clean['price_category'] = DF_train['price_category'].map(price_ranking)\n",
        "\n",
        "# test\n",
        "DF_test_clean['price_category'] = DF_test['price_category'].map(price_ranking)"
      ]
    },
    {
      "cell_type": "markdown",
      "metadata": {
        "id": "bG7tegYEPGhb"
      },
      "source": [
        "### **3.3 Additional Feature Generation**\n",
        "In this section, 2 additional features are generated:\n",
        "- we combine the review and summary text into a single column\n",
        "- we introduce 'polarity_score' based on the all textual data using TextBlob library (a simple NLP library that assigns a polary rating to a string between -1 (negative) and +1 (positive))"
      ]
    },
    {
      "cell_type": "code",
      "execution_count": null,
      "metadata": {
        "id": "U4r7aPhMOrhO"
      },
      "outputs": [],
      "source": [
        "### COMBINING REVIEWTEXT AND SUMMARY INTO ONE COLUMN ###\n",
        "\n",
        "# combining summary and reviewText in both Train and Test set\n",
        "DF_train_clean['all_text'] = DF_train_clean['reviewText_clean'] + ' ' + DF_train_clean['summary_clean']\n",
        "DF_test_clean['all_text'] = DF_test_clean['reviewText_clean'] + ' ' + DF_test_clean['summary_clean']\n",
        "\n",
        "### POLARITY SCORE BASED ON TEXTUAL DATA ###\n",
        "\n",
        "# obtain polarity score using textBlob library\n",
        "def textBlob_polarity(string_literal):\n",
        "    # This polarity score is between -1 (negative) to 1 (positive)\n",
        "    polarity = TextBlob(string_literal).sentiment.polarity\n",
        "    return polarity\n",
        "\n",
        "# create feature in both train and test dataset\n",
        "DF_train_clean['polarity_score'] = DF_train_clean['all_text'].apply(lambda x: textBlob_polarity(x))\n",
        "DF_test_clean['polarity_score'] = DF_test_clean['all_text'].apply(lambda x: textBlob_polarity(x))"
      ]
    },
    {
      "cell_type": "markdown",
      "metadata": {
        "id": "Du60sAFzIIZb"
      },
      "source": [
        "### **3.4 Train Test Split and Normalization**\n",
        "The data is split into 2 portions: \n",
        "- Training: Used for model training\n",
        "- Validation: This will be the portion of data utilized to test the trained model\n",
        "\n",
        "The numerical features are than normalized between 0 and 1 to bring them all to same scale. This is particularly important when using regression and neural network models."
      ]
    },
    {
      "cell_type": "code",
      "execution_count": null,
      "metadata": {
        "id": "lGU-H7CAIHuS"
      },
      "outputs": [],
      "source": [
        "# selecting specific features from the test set that will be used in the model\n",
        "# we are essentially using all features in the data (this is just a step to make sure code will not crash from prior sections)\n",
        "DF_test_clean = DF_test_clean[['price', 'price_category', 'category_Classical', 'category_Dance & Electronic', 'category_Jazz', 'category_Pop', 'time_category_2006_2013', 'time_category_2013_2015', 'time_category_2015_present', 'polarity_score', 'all_text']]\n",
        "\n",
        "# split the training data into train and validation set\n",
        "X_overall = DF_train_clean[['price', 'price_category', 'category_Classical', 'category_Dance & Electronic', 'category_Jazz', 'category_Pop', 'time_category_2006_2013', 'time_category_2013_2015', 'time_category_2015_present', 'polarity_score', 'all_text']]\n",
        "y = DF_train_clean['overall']\n",
        "X_train, X_val, y_train, y_val = train_test_split(X_overall, y, test_size=0.5, random_state=0)"
      ]
    },
    {
      "cell_type": "code",
      "execution_count": null,
      "metadata": {
        "id": "sIjsoAXDF0Xg"
      },
      "outputs": [],
      "source": [
        "# normalization between 0 and 1\n",
        "# sc = StandardScaler()\n",
        "mms = MinMaxScaler()\n",
        "X_train_std = X_train.copy()\n",
        "X_val_std = X_val.copy()\n",
        "DF_test_std = DF_test_clean.copy()\n",
        "X_train_std[['price', 'price_category', 'polarity_score']] = mms.fit_transform(X_train[['price', 'price_category', 'polarity_score']])\n",
        "X_val_std[['price', 'price_category', 'polarity_score']] = mms.transform(X_val[['price', 'price_category', 'polarity_score']])\n",
        "DF_test_std[['price', 'price_category', 'polarity_score']] = mms.transform(DF_test_clean[['price', 'price_category', 'polarity_score']])"
      ]
    },
    {
      "cell_type": "markdown",
      "metadata": {
        "id": "Qfujl0WcFgY2"
      },
      "source": [
        "### **3.4 Feature Extraction of Text Data**\n",
        "TF-IDF (along with n-gram) was used to extract data from the textual. The TF-IDF vector is then horizontally stacked with other numerical features from before (category, price etc.) to combine all features together into one array."
      ]
    },
    {
      "cell_type": "code",
      "execution_count": null,
      "metadata": {
        "id": "gtOjVj0eF0U2"
      },
      "outputs": [],
      "source": [
        "# tf-idf on train and test\n",
        "tfidfVec = TfidfVectorizer(max_features=2500, ngram_range=(1,3))\n",
        "X_trn_tfidf = tfidfVec.fit_transform(X_train_std['all_text'])\n",
        "X_val_tfidf = tfidfVec.transform(X_val_std['all_text'])\n",
        "DF_test_tfidf = tfidfVec.transform(DF_test_std['all_text'])"
      ]
    },
    {
      "cell_type": "code",
      "execution_count": null,
      "metadata": {
        "id": "1lI9Jvs9ZvBf"
      },
      "outputs": [],
      "source": [
        "# collecting text features, OHE features, numerical features together on training\n",
        "X_train_final = np.hstack([X_train_std.drop('all_text', axis=1).to_numpy(), X_trn_tfidf.toarray()])"
      ]
    },
    {
      "cell_type": "code",
      "execution_count": null,
      "metadata": {
        "id": "XHBRRTvh-ynd"
      },
      "outputs": [],
      "source": [
        "# collecting text features, OHE features, numerical features together on validation\n",
        "X_val_final = np.hstack([X_val_std.drop('all_text', axis=1).to_numpy(), X_val_tfidf.toarray()])"
      ]
    },
    {
      "cell_type": "code",
      "execution_count": null,
      "metadata": {
        "id": "cwlx_vx8RKXr"
      },
      "outputs": [],
      "source": [
        "# collecting text features, OHE features, numerical features together on testing\n",
        "DF_test_final = np.hstack([DF_test_std.drop('all_text', axis=1).to_numpy(), DF_test_tfidf.toarray()])"
      ]
    },
    {
      "cell_type": "markdown",
      "metadata": {
        "id": "4KV3rLQ25V65"
      },
      "source": [
        "## **4 Machine Learning and Model Implementation**\n",
        "\n"
      ]
    },
    {
      "cell_type": "markdown",
      "metadata": {
        "id": "M8SzGck6R_65"
      },
      "source": [
        "### **4.1 Baseline Model: Ridge Regression Approach**\n",
        "Firstly, a baseline model is designed using ridge regression algorithm. This will give a good baseline on what kind of results to expect when advanced and more complex approaches are looked at later on."
      ]
    },
    {
      "cell_type": "code",
      "execution_count": null,
      "metadata": {
        "colab": {
          "base_uri": "https://localhost:8080/"
        },
        "id": "ma4iFjnU5Unc",
        "outputId": "f2dd3474-0870-4d19-b218-33eca32916fe"
      },
      "outputs": [
        {
          "name": "stdout",
          "output_type": "stream",
          "text": [
            "Ridge(alpha=1, copy_X=True, fit_intercept=True, max_iter=None, normalize=False,\n",
            "      random_state=None, solver='auto', tol=0.001)\n"
          ]
        }
      ],
      "source": [
        "# model training and prediction\n",
        "gridParam = {'alpha': [0.01, 0.1, 1, 10]}\n",
        "ridReg = Ridge(normalize=False)\n",
        "model_gridCV = GridSearchCV(ridReg, gridParam, cv=5, scoring='neg_mean_squared_error')\n",
        "model_gridCV.fit(X_train_final, y_train)\n",
        "print(model_gridCV.best_estimator_)"
      ]
    },
    {
      "cell_type": "code",
      "execution_count": null,
      "metadata": {
        "id": "mPJ0rA6XOKGv"
      },
      "outputs": [],
      "source": [
        "# use best model and fit on training data\n",
        "best_mod = model_gridCV.best_estimator_\n",
        "best_mod.fit(X_train_final, y_train)\n",
        "\n",
        "# predict on training, validation and actual test data\n",
        "y_pred_train = best_mod.predict(X_train_final)\n",
        "y_pred_val = best_mod.predict(X_val_final)\n",
        "y_pred_test = best_mod.predict(DF_test_final) \n",
        "\n",
        "def rounding_procedure(list_input):\n",
        "  \"\"\"\n",
        "  This rounding procedure ensures all ratings fall between 1 and 5\n",
        "  \"\"\"\n",
        "  list_output = []\n",
        "  for i in list_input:\n",
        "    if i < 1:\n",
        "      list_output.append(1)\n",
        "    elif i > 5:\n",
        "      list_output.append(5)\n",
        "    else:\n",
        "      list_output.append(i)\n",
        "  return list_output\n",
        "\n",
        "# rating correction: round ratings below 1 to 1 and ratings above 5 to 5\n",
        "y_pred_train_corr = rounding_procedure(y_pred_train)\n",
        "y_pred_val_corr = rounding_procedure(y_pred_val)\n",
        "y_pred_tst_corr = rounding_procedure(y_pred_test)\n",
        "\n",
        "# calculate mse on training and validation\n",
        "y_train_mse = mean_squared_error(y_train, y_pred_train_corr) \n",
        "y_val_mse = mean_squared_error(y_val, y_pred_val_corr)"
      ]
    },
    {
      "cell_type": "code",
      "execution_count": null,
      "metadata": {
        "id": "hEZVJfpN-5Rn"
      },
      "outputs": [],
      "source": [
        "# putting all predictions in dataFrame (will be used later to ensemble)\n",
        "y_pred_trn_df_baseline = pd.DataFrame(y_pred_train_corr, columns=['prediction_baseline'])\n",
        "y_pred_val_df_baseline = pd.DataFrame(y_pred_val_corr, columns=['prediction_baseline'])\n",
        "y_pred_tst_df_baseline = pd.DataFrame(y_pred_tst_corr, columns=['prediction_baseline'])"
      ]
    },
    {
      "cell_type": "code",
      "execution_count": null,
      "metadata": {
        "colab": {
          "base_uri": "https://localhost:8080/"
        },
        "id": "p1ubepq6w-JP",
        "outputId": "75820451-5d7b-46ae-9302-c6fc6793e30f"
      },
      "outputs": [
        {
          "name": "stdout",
          "output_type": "stream",
          "text": [
            "Result with Ridge Regression Model\n",
            "\n",
            "MSE on training set = 0.492\n",
            "MSE on testing set = 0.521\n"
          ]
        }
      ],
      "source": [
        "print(\"Result with Ridge Regression Model\\n\")\n",
        "print(\"MSE on training set = {:.3f}\".format(y_train_mse))\n",
        "print(\"MSE on testing set = {:.3f}\".format(y_val_mse))"
      ]
    },
    {
      "cell_type": "code",
      "execution_count": null,
      "metadata": {
        "id": "DMkKg4-RnIPl"
      },
      "outputs": [],
      "source": [
        "ridge_train = y_train_mse.copy()\n",
        "ridge_test = y_val_mse.copy()"
      ]
    },
    {
      "cell_type": "markdown",
      "metadata": {
        "id": "pxaoQdrL_CkS"
      },
      "source": [
        "The above results give us an starting point on what to expect from our model. The Mean Squared Error on both training and testing set is very close, indicating that model has a good fit. Next, more advanced approaches will be looked at to see if MSE can be further reduced."
      ]
    },
    {
      "cell_type": "markdown",
      "metadata": {
        "id": "62NbkMNDSB5B"
      },
      "source": [
        "### **4.2 XGB Modelling Approach**\n",
        "A Gradient Boosted Decision Tree model will be used in conjunction with grid search to find the best resulting model. "
      ]
    },
    {
      "cell_type": "code",
      "execution_count": null,
      "metadata": {
        "id": "UXLaBNlRSq_b"
      },
      "outputs": [],
      "source": [
        "#best hyperparameters hard coded due to long computational time\n",
        "#gridParam = {'max_depth': [4,7,10], 'n_estimators': [50,100], 'min_child_weight': [5,8]}\n",
        "\n",
        "gridParam = {'max_depth': [7], 'n_estimators': [100], 'min_child_weight': [8]}\n",
        "xgbReg = XGBRegressor(objective='reg:squarederror')\n",
        "xgb_gridCV = GridSearchCV(xgbReg, gridParam, cv=5, scoring='neg_mean_squared_error')\n",
        "xgb_gridCV.fit(X_train_final, y_train)\n",
        "\n",
        "# predict on training, validation and actual test data\n",
        "y_pred_train_xgb = xgb_gridCV.predict(X_train_final)\n",
        "y_pred_val_xgb = xgb_gridCV.predict(X_val_final)\n",
        "y_pred_test_xgb = xgb_gridCV.predict(DF_test_final) \n",
        "\n",
        "# rating correction: round ratings below 1 to 1 and ratings above 5 to 5\n",
        "y_pred_train_corr_xgb = rounding_procedure(y_pred_train_xgb)\n",
        "y_pred_val_corr_xgb = rounding_procedure(y_pred_val_xgb)\n",
        "y_pred_tst_corr_xgb = rounding_procedure(y_pred_test_xgb)\n",
        "\n",
        "# calculate mse on training and validation\n",
        "y_train_mse_xgb = mean_squared_error(y_train, y_pred_train_corr_xgb) \n",
        "y_val_mse_xgb = mean_squared_error(y_val, y_pred_val_corr_xgb)\n",
        "\n",
        "print(\"Result with XG Decision Trees Model\\n\")\n",
        "print(\"MSE on training set = {:.3f}\".format(y_train_mse_xgb))\n",
        "print(\"MSE on testing set = {:.3f}\".format(y_val_mse_xgb))"
      ]
    },
    {
      "cell_type": "code",
      "execution_count": null,
      "metadata": {
        "id": "aBdvSkfqxTxm"
      },
      "outputs": [],
      "source": [
        "xgb_train = y_train_mse_xgb.copy()\n",
        "xgb_test = y_val_mse_xgb.copy()"
      ]
    },
    {
      "cell_type": "markdown",
      "metadata": {
        "id": "LvfMhQc49E7L"
      },
      "source": [
        "### **4.3 Bi-LSTM Model with 2 Input Layers**\n",
        "In this approach, a bidirectional LSTM method is explored using 2 input layers as following:\n",
        "1. Word Embedded for Text\n",
        "2. Other Features (Price, Category, etc.)\n",
        "\n",
        "Bi-directional LSTM models are excellent in NLP tasks because they allow the neural network to have both forward and backward information about a sequence at every time. Because the inputs are run both from past to future as well as from future to past, they are much better at understanding the context of user-input texts.\n",
        "\n",
        "The word embedding was obtained using pre-trained word vectors through GloVe."
      ]
    },
    {
      "cell_type": "code",
      "execution_count": null,
      "metadata": {
        "id": "d1Px-IAUfyuV"
      },
      "outputs": [],
      "source": [
        "from tensorflow.keras.preprocessing.text import one_hot, Tokenizer\n",
        "from tensorflow.keras.preprocessing.sequence import pad_sequences\n",
        "from tensorflow.keras.models import Sequential, Model\n",
        "from tensorflow.keras.layers import Activation, Dropout, Dense, LSTM, Input, Bidirectional, Embedding, Concatenate\n",
        "from keras.regularizers import l2"
      ]
    },
    {
      "cell_type": "code",
      "execution_count": null,
      "metadata": {
        "id": "fitFCg8WKoc-"
      },
      "outputs": [],
      "source": [
        "# input_1 (all text)\n",
        "X_train_txt = X_train_std['all_text']\n",
        "X_val_txt = X_val_std['all_text']\n",
        "X_test_txt = DF_test_std['all_text']\n",
        "\n",
        "# input_2 (all other features)\n",
        "X_train_others = X_train_std.iloc[:,:-1]\n",
        "X_val_others = X_val_std.iloc[:,:-1]\n",
        "X_test_others = DF_test_std.iloc[:,:-1]"
      ]
    },
    {
      "cell_type": "code",
      "execution_count": null,
      "metadata": {
        "id": "Njq_m_Hu92Sg"
      },
      "outputs": [],
      "source": [
        "# tokenizer\n",
        "tokenizer = Tokenizer(num_words=5000)\n",
        "tokenizer.fit_on_texts(X_train_txt)\n",
        "\n",
        "# convert tokens to sequence\n",
        "X_train_txt = tokenizer.texts_to_sequences(X_train_txt)\n",
        "X_val_txt = tokenizer.texts_to_sequences(X_val_txt)\n",
        "X_test_txt = tokenizer.texts_to_sequences(X_test_txt)\n",
        "\n",
        "vocab_size = len(tokenizer.word_index) + 1\n",
        "maxlen = 250\n",
        "\n",
        "# pre-pad sequence with 0s\n",
        "X_train_txt = pad_sequences(X_train_txt, padding='pre', maxlen=maxlen)\n",
        "X_val_txt = pad_sequences(X_val_txt, padding='pre', maxlen=maxlen)\n",
        "X_test_txt = pad_sequences(X_test_txt, padding='pre', maxlen=maxlen)"
      ]
    },
    {
      "cell_type": "code",
      "execution_count": null,
      "metadata": {
        "id": "Dsk_7nDL92VQ"
      },
      "outputs": [],
      "source": [
        "# embed using pre-trained glove\n",
        "embeddings_dictionary = dict()\n",
        "\n",
        "glove_file = open('glove.6B.100d.txt', encoding=\"utf8\")\n",
        "\n",
        "for line in glove_file:\n",
        "    records = line.split()\n",
        "    word = records[0]\n",
        "    vector_dimensions = np.asarray(records[1:], dtype='float32')\n",
        "    embeddings_dictionary[word] = vector_dimensions\n",
        "\n",
        "glove_file.close()\n",
        "\n",
        "embedding_matrix = np.zeros((vocab_size, 100))\n",
        "for word, index in tokenizer.word_index.items():\n",
        "    embedding_vector = embeddings_dictionary.get(word)\n",
        "    if embedding_vector is not None:\n",
        "        embedding_matrix[index] = embedding_vector"
      ]
    },
    {
      "cell_type": "code",
      "execution_count": null,
      "metadata": {
        "id": "pxIdlL7e92Xp"
      },
      "outputs": [],
      "source": [
        "# input_1 is for text. input_2 is for other features\n",
        "input_1 = Input(shape=(maxlen,))\n",
        "input_2 = Input(shape=(10,))"
      ]
    },
    {
      "cell_type": "code",
      "execution_count": null,
      "metadata": {
        "id": "-rsErpEl92aX"
      },
      "outputs": [],
      "source": [
        "# define word embedding layer\n",
        "embedding_layer = Embedding(vocab_size, 100, weights=[embedding_matrix], trainable=False)(input_1)\n",
        "LSTM_Layer_1 = Bidirectional(LSTM(128))(embedding_layer)\n",
        "\n",
        "# define layer for other features (numerical, one-hot encoded etc)\n",
        "dense_layer_1 = Dense(18, activation='relu')(input_2)"
      ]
    },
    {
      "cell_type": "code",
      "execution_count": null,
      "metadata": {
        "id": "aq8PuUEQOFHL"
      },
      "outputs": [],
      "source": [
        "# concatenating both input layers\n",
        "concat_layer = Concatenate()([LSTM_Layer_1, dense_layer_1])\n",
        "\n",
        "# add hidden layers with dropout between\n",
        "dense_layer_2 = Dense(18, activation='relu')(concat_layer)\n",
        "dropout_layer_1 = Dropout(0.01)(dense_layer_2)\n",
        "dense_layer_3 = Dense(9, activation='relu')(dropout_layer_1)\n",
        "dropout_layer_2 = Dropout(0.01)(dense_layer_3)\n",
        "\n",
        "# output layer\n",
        "output = Dense(1, activation='linear')(dropout_layer_2)\n",
        "\n",
        "# setup model\n",
        "model = Model(inputs=[input_1, input_2], outputs=output)"
      ]
    },
    {
      "cell_type": "code",
      "execution_count": null,
      "metadata": {
        "colab": {
          "base_uri": "https://localhost:8080/"
        },
        "id": "2Lc61T9wOFOT",
        "outputId": "6b4036a9-7f74-46b5-d68b-d478d112843a"
      },
      "outputs": [
        {
          "name": "stdout",
          "output_type": "stream",
          "text": [
            "Model: \"model\"\n",
            "__________________________________________________________________________________________________\n",
            "Layer (type)                    Output Shape         Param #     Connected to                     \n",
            "==================================================================================================\n",
            "input_1 (InputLayer)            [(None, 250)]        0                                            \n",
            "__________________________________________________________________________________________________\n",
            "embedding (Embedding)           (None, 250, 100)     14621600    input_1[0][0]                    \n",
            "__________________________________________________________________________________________________\n",
            "input_2 (InputLayer)            [(None, 10)]         0                                            \n",
            "__________________________________________________________________________________________________\n",
            "bidirectional (Bidirectional)   (None, 256)          234496      embedding[0][0]                  \n",
            "__________________________________________________________________________________________________\n",
            "dense (Dense)                   (None, 18)           198         input_2[0][0]                    \n",
            "__________________________________________________________________________________________________\n",
            "concatenate (Concatenate)       (None, 274)          0           bidirectional[0][0]              \n",
            "                                                                 dense[0][0]                      \n",
            "__________________________________________________________________________________________________\n",
            "dense_1 (Dense)                 (None, 18)           4950        concatenate[0][0]                \n",
            "__________________________________________________________________________________________________\n",
            "dropout (Dropout)               (None, 18)           0           dense_1[0][0]                    \n",
            "__________________________________________________________________________________________________\n",
            "dense_2 (Dense)                 (None, 9)            171         dropout[0][0]                    \n",
            "__________________________________________________________________________________________________\n",
            "dropout_1 (Dropout)             (None, 9)            0           dense_2[0][0]                    \n",
            "__________________________________________________________________________________________________\n",
            "dense_3 (Dense)                 (None, 1)            10          dropout_1[0][0]                  \n",
            "==================================================================================================\n",
            "Total params: 14,861,425\n",
            "Trainable params: 239,825\n",
            "Non-trainable params: 14,621,600\n",
            "__________________________________________________________________________________________________\n",
            "None\n"
          ]
        }
      ],
      "source": [
        "# compile model\n",
        "model.compile(loss='mean_squared_error', optimizer='adam', metrics=['MeanSquaredError'])\n",
        "print(model.summary())"
      ]
    },
    {
      "cell_type": "code",
      "execution_count": null,
      "metadata": {
        "colab": {
          "base_uri": "https://localhost:8080/"
        },
        "id": "XI67kjClOFZU",
        "outputId": "d02bc4b9-eafc-4cef-98ee-c851f261bb9e"
      },
      "outputs": [
        {
          "name": "stdout",
          "output_type": "stream",
          "text": [
            "Epoch 1/10\n",
            "405/405 [==============================] - 52s 45ms/step - loss: 2.4256 - mean_squared_error: 2.4256 - val_loss: 0.6988 - val_mean_squared_error: 0.6988\n",
            "Epoch 2/10\n",
            "405/405 [==============================] - 18s 44ms/step - loss: 0.7776 - mean_squared_error: 0.7776 - val_loss: 0.6497 - val_mean_squared_error: 0.6497\n",
            "Epoch 3/10\n",
            "405/405 [==============================] - 18s 44ms/step - loss: 0.6637 - mean_squared_error: 0.6637 - val_loss: 0.5781 - val_mean_squared_error: 0.5781\n",
            "Epoch 4/10\n",
            "405/405 [==============================] - 18s 45ms/step - loss: 0.5935 - mean_squared_error: 0.5935 - val_loss: 0.5785 - val_mean_squared_error: 0.5785\n",
            "Epoch 5/10\n",
            "405/405 [==============================] - 18s 45ms/step - loss: 0.5630 - mean_squared_error: 0.5630 - val_loss: 0.5946 - val_mean_squared_error: 0.5946\n",
            "Epoch 6/10\n",
            "405/405 [==============================] - 18s 46ms/step - loss: 0.5469 - mean_squared_error: 0.5469 - val_loss: 0.5242 - val_mean_squared_error: 0.5242\n",
            "Epoch 7/10\n",
            "405/405 [==============================] - 19s 46ms/step - loss: 0.5234 - mean_squared_error: 0.5234 - val_loss: 0.5167 - val_mean_squared_error: 0.5167\n",
            "Epoch 8/10\n",
            "405/405 [==============================] - 19s 46ms/step - loss: 0.5031 - mean_squared_error: 0.5031 - val_loss: 0.5026 - val_mean_squared_error: 0.5026\n",
            "Epoch 9/10\n",
            "405/405 [==============================] - 19s 46ms/step - loss: 0.4739 - mean_squared_error: 0.4739 - val_loss: 0.5090 - val_mean_squared_error: 0.5090\n",
            "Epoch 10/10\n",
            "405/405 [==============================] - 18s 46ms/step - loss: 0.4613 - mean_squared_error: 0.4613 - val_loss: 0.5074 - val_mean_squared_error: 0.5074\n"
          ]
        }
      ],
      "source": [
        "# fit model \n",
        "lstm_mod = model.fit(x=[X_train_txt, X_train_others], y=y_train, batch_size=128, epochs=10, verbose=1, validation_split=0.3)"
      ]
    },
    {
      "cell_type": "code",
      "execution_count": null,
      "metadata": {
        "colab": {
          "base_uri": "https://localhost:8080/",
          "height": 517
        },
        "id": "SO3UkKV2WP2T",
        "outputId": "f02d95b7-145b-4f22-9bc8-c37272ed4052"
      },
      "outputs": [
        {
          "data": {
            "image/png": "[encoded data removed]",
            "text/plain": [
              "<Figure size 1080x576 with 1 Axes>"
            ]
          },
          "metadata": {
            "tags": []
          },
          "output_type": "display_data"
        }
      ],
      "source": [
        "# Plot the model performance across epochs\n",
        "plt.style.use('ggplot')\n",
        "plt.figure(figsize=(15,8))\n",
        "plt.plot(lstm_mod.history['loss'])\n",
        "plt.plot(lstm_mod.history['val_loss'])\n",
        "plt.title('Model Loss over Epoch (BiLSTM)')\n",
        "plt.ylabel('loss')\n",
        "plt.legend(['train_loss (MSE)','val_loss (MSE)'], loc = 'upper right')\n",
        "plt.xlabel('epoch')\n",
        "plt.xlim(0, 9, 1)\n",
        "plt.show()"
      ]
    },
    {
      "cell_type": "markdown",
      "metadata": {
        "id": "91zTo27QZlBq"
      },
      "source": [
        "Looking at the model loss plot above, the neural network model fits well to the training data as both the training and validation losses converge and are very close. Note that the hyperparameters and hidden layers of this model have been tuned manually."
      ]
    },
    {
      "cell_type": "code",
      "execution_count": null,
      "metadata": {
        "id": "-6el113y_Pfm"
      },
      "outputs": [],
      "source": [
        "# predict on training, internal test set (that is, validation) and actual test set\n",
        "y_pred_train = model.predict([X_train_txt, X_train_others])\n",
        "y_pred_val = model.predict([X_val_txt, X_val_others])\n",
        "y_pred_test = model.predict([X_test_txt, X_test_others])\n",
        "\n",
        "# convert to list\n",
        "y_pred_train = y_pred_train.reshape(y_pred_train.shape[0]).tolist()\n",
        "y_pred_val = y_pred_val.reshape(y_pred_val.shape[0]).tolist()\n",
        "y_pred_test = y_pred_test.reshape(y_pred_test.shape[0]).tolist()\n",
        "\n",
        "# rating correction: round ratings below 1 to 1 and ratings above 5 to 5\n",
        "y_pred_train_corr = rounding_procedure(y_pred_train)\n",
        "y_pred_val_corr = rounding_procedure(y_pred_val)\n",
        "y_pred_tst_corr = rounding_procedure(y_pred_test)\n",
        "\n",
        "# calculate mse on training and validation\n",
        "y_train_mse = mean_squared_error(y_train, y_pred_train_corr) \n",
        "y_val_mse = mean_squared_error(y_val, y_pred_val_corr)"
      ]
    },
    {
      "cell_type": "code",
      "execution_count": null,
      "metadata": {
        "id": "4mCeVexsBPLi"
      },
      "outputs": [],
      "source": [
        "# put in dataFrame (will be used to ensemble later)\n",
        "y_pred_trn_df_lstm = pd.DataFrame(y_pred_train_corr, columns=['prediction_lstm'])\n",
        "y_pred_val_df_lstm = pd.DataFrame(y_pred_val_corr, columns=['prediction_lstm'])\n",
        "y_pred_tst_df_lstm = pd.DataFrame(y_pred_tst_corr, columns=['prediction_lstm'])"
      ]
    },
    {
      "cell_type": "code",
      "execution_count": null,
      "metadata": {
        "colab": {
          "base_uri": "https://localhost:8080/"
        },
        "id": "xEEZZN9ZBPOY",
        "outputId": "bebdf0a6-1cfb-41bc-fc96-2af8b84b4dc3"
      },
      "outputs": [
        {
          "name": "stdout",
          "output_type": "stream",
          "text": [
            "Result with Bidirectional LSTM (BiLSTM) Model\n",
            "\n",
            "MSE on training set = 0.414\n",
            "MSE on testing set = 0.497\n"
          ]
        }
      ],
      "source": [
        "print(\"Result with Bidirectional LSTM (BiLSTM) Model\\n\")\n",
        "print(\"MSE on training set = {:.3f}\".format(y_train_mse))\n",
        "print(\"MSE on testing set = {:.3f}\".format(y_val_mse))"
      ]
    },
    {
      "cell_type": "code",
      "execution_count": null,
      "metadata": {
        "id": "10r2AReWnQ6D"
      },
      "outputs": [],
      "source": [
        "lstm_train = y_train_mse.copy()\n",
        "lstm_test = y_val_mse.copy()"
      ]
    },
    {
      "cell_type": "markdown",
      "metadata": {
        "id": "w_QN_KigCrYw"
      },
      "source": [
        "By using a BiLSTM model, the results have improved although not significantly. This model is also fitting very well as the MSE on both training as well as the unseen test data are similar. Next, we will explore the power of ensembling the results from the above models and see if any improvements can be made. "
      ]
    },
    {
      "cell_type": "markdown",
      "metadata": {
        "id": "GecRZXreDo0D"
      },
      "source": [
        "### **4.4 Stacked Ensembling Approach**\n",
        "In this approach, we will assume the baseline model (Ridge Regression from section 4.1) and BiLSTM model (section 4.2) as 'base learning models' whose predictions will be used as inputs to a linear regression algorithm which will make the final ratings prediction. \n",
        "\n",
        "Stacking models like this allows for each base model to use their individual strengths by feeding their outputs as inputs to a final estimator. "
      ]
    },
    {
      "cell_type": "code",
      "execution_count": null,
      "metadata": {
        "colab": {
          "base_uri": "https://localhost:8080/",
          "height": 206
        },
        "id": "tjNv80XpDv5K",
        "outputId": "bb22aa05-9dfa-4c16-f3aa-5cdc9d0480aa"
      },
      "outputs": [
        {
          "data": {
            "text/html": [
              "<div>\n",
              "<style scoped>\n",
              "    .dataframe tbody tr th:only-of-type {\n",
              "        vertical-align: middle;\n",
              "    }\n",
              "\n",
              "    .dataframe tbody tr th {\n",
              "        vertical-align: top;\n",
              "    }\n",
              "\n",
              "    .dataframe thead th {\n",
              "        text-align: right;\n",
              "    }\n",
              "</style>\n",
              "<table border=\"1\" class=\"dataframe\">\n",
              "  <thead>\n",
              "    <tr style=\"text-align: right;\">\n",
              "      <th></th>\n",
              "      <th>prediction_baseline</th>\n",
              "      <th>prediction_lstm</th>\n",
              "    </tr>\n",
              "  </thead>\n",
              "  <tbody>\n",
              "    <tr>\n",
              "      <th>0</th>\n",
              "      <td>4.960216</td>\n",
              "      <td>5.000000</td>\n",
              "    </tr>\n",
              "    <tr>\n",
              "      <th>1</th>\n",
              "      <td>3.187755</td>\n",
              "      <td>2.950125</td>\n",
              "    </tr>\n",
              "    <tr>\n",
              "      <th>2</th>\n",
              "      <td>4.156763</td>\n",
              "      <td>4.737684</td>\n",
              "    </tr>\n",
              "    <tr>\n",
              "      <th>3</th>\n",
              "      <td>5.000000</td>\n",
              "      <td>4.902352</td>\n",
              "    </tr>\n",
              "    <tr>\n",
              "      <th>4</th>\n",
              "      <td>5.000000</td>\n",
              "      <td>4.910620</td>\n",
              "    </tr>\n",
              "  </tbody>\n",
              "</table>\n",
              "</div>"
            ],
            "text/plain": [
              "   prediction_baseline  prediction_lstm\n",
              "0             4.960216         5.000000\n",
              "1             3.187755         2.950125\n",
              "2             4.156763         4.737684\n",
              "3             5.000000         4.902352\n",
              "4             5.000000         4.910620"
            ]
          },
          "execution_count": 85,
          "metadata": {
            "tags": []
          },
          "output_type": "execute_result"
        }
      ],
      "source": [
        "# collecting output from baseline and LSTM model together\n",
        "X_new_trn_all = pd.concat([y_pred_trn_df_baseline, y_pred_trn_df_lstm], axis=1) # train\n",
        "X_new_val_all = pd.concat([y_pred_val_df_baseline, y_pred_val_df_lstm], axis=1) # validation (internal test set)\n",
        "X_new_tst_all = pd.concat([y_pred_tst_df_baseline, y_pred_tst_df_lstm], axis=1) # actual test set (kaggle)\n",
        "\n",
        "X_new_trn_all.head()"
      ]
    },
    {
      "cell_type": "markdown",
      "metadata": {
        "id": "LHGs01zxHoDi"
      },
      "source": [
        "The above table shows the new features which basically represent the output of baseline and BiLSTM predictions. These will now be used as input features for a Linear Regression model. As regression based model is being used, it is important to standardize the data first."
      ]
    },
    {
      "cell_type": "code",
      "execution_count": null,
      "metadata": {
        "id": "APxtuYl6ECJ0"
      },
      "outputs": [],
      "source": [
        "# as we will use regularized regression model on this new data, we need to standardize it\n",
        "sc = StandardScaler()\n",
        "X_new_trn_all_std = sc.fit_transform(X_new_trn_all)\n",
        "X_new_val_all_std = sc.transform(X_new_val_all)\n",
        "X_new_tst_all_std = sc.transform(X_new_tst_all)"
      ]
    },
    {
      "cell_type": "code",
      "execution_count": null,
      "metadata": {
        "id": "FOgDHhLoFHV4"
      },
      "outputs": [],
      "source": [
        "lr = LinearRegression()\n",
        "\n",
        "# fit linear regression on training data\n",
        "lr.fit(X_new_trn_all_std, y_train)\n",
        "\n",
        "# predict on training, validation and actual test data\n",
        "y_pred_train = lr.predict(X_new_trn_all_std)\n",
        "y_pred_val = lr.predict(X_new_val_all_std)\n",
        "y_pred_test = lr.predict(X_new_tst_all_std) \n",
        "\n",
        "# rating correction: round ratings below 1 to 1 and ratings above 5 to 5\n",
        "y_pred_train_corr = rounding_procedure(y_pred_train)\n",
        "y_pred_val_corr = rounding_procedure(y_pred_val)\n",
        "y_pred_tst_corr = rounding_procedure(y_pred_test)\n",
        "\n",
        "# calculate mse on training and validation\n",
        "y_train_mse = mean_squared_error(y_train, y_pred_train_corr) \n",
        "y_val_mse = mean_squared_error(y_val, y_pred_val_corr)"
      ]
    },
    {
      "cell_type": "code",
      "execution_count": null,
      "metadata": {
        "colab": {
          "base_uri": "https://localhost:8080/"
        },
        "id": "mc96foYGFXkr",
        "outputId": "0710039d-1493-4027-abf6-2e018144af3c"
      },
      "outputs": [
        {
          "name": "stdout",
          "output_type": "stream",
          "text": [
            "Result with Ensembling\n",
            "\n",
            "MSE on training set = 0.386\n",
            "MSE on testing set = 0.452\n"
          ]
        }
      ],
      "source": [
        "print(\"Result with Ensembling\\n\")\n",
        "print(\"MSE on training set = {:.3f}\".format(y_train_mse))\n",
        "print(\"MSE on testing set = {:.3f}\".format(y_val_mse))"
      ]
    },
    {
      "cell_type": "code",
      "execution_count": null,
      "metadata": {
        "id": "ElgKAuFlnVya"
      },
      "outputs": [],
      "source": [
        "ensemble_train = y_train_mse.copy()\n",
        "ensemble_test = y_val_mse.copy()"
      ]
    },
    {
      "cell_type": "code",
      "execution_count": null,
      "metadata": {
        "colab": {
          "base_uri": "https://localhost:8080/",
          "height": 1000
        },
        "id": "kiWE_C64_a5Q",
        "outputId": "b9ec0725-8dd9-4d0e-87be-d560669186e9"
      },
      "outputs": [
        {
          "data": {
            "image/png": "[encoded data removed]",
            "text/plain": [
              "<Figure size 1080x576 with 1 Axes>"
            ]
          },
          "metadata": {
            "tags": []
          },
          "output_type": "display_data"
        },
        {
          "data": {
            "image/png": "[encoded data removed]",
            "text/plain": [
              "<Figure size 1080x576 with 1 Axes>"
            ]
          },
          "metadata": {
            "tags": []
          },
          "output_type": "display_data"
        }
      ],
      "source": [
        "# plotting actual versus predicted class distribution on test data (internal test data)\n",
        "y_pred_val_df_ensemble = pd.DataFrame(y_pred_val_corr, columns=['prediction_ensemble'])\n",
        "y_pred_val_df_ensemble = pd.concat([y_pred_val_df_ensemble, y_val.reset_index()], axis=1)\n",
        "y_pred_val_df_ensemble.drop(['index'], axis=1, inplace=True)\n",
        "\n",
        "# true ratings distribution\n",
        "plt.figure(figsize=(15, 8))\n",
        "sns.histplot(x='overall', data=y_pred_val_df_ensemble, discrete=True, color='lightseagreen')\n",
        "plt.title('True Ratings Distribution (Internal Test Data)', fontsize=20, fontweight='bold')\n",
        "plt.xlabel('Ratings', fontsize=16, fontweight='bold')\n",
        "plt.ylabel('Count', fontsize=16, fontweight='bold')\n",
        "plt.xlim(0.5, 5.5, 1)\n",
        "plt.xticks(fontsize=14, fontweight='bold')\n",
        "plt.yticks(fontsize=14, fontweight='bold')\n",
        "plt.show()\n",
        "\n",
        "# predicted ratings distribution\n",
        "plt.figure(figsize=(15, 8))\n",
        "sns.histplot(x='prediction_ensemble', data=y_pred_val_df_ensemble, discrete=True, color='indianred')\n",
        "plt.title('Predicted Ratings Distribution (Internal Test Data)', fontsize=20, fontweight='bold')\n",
        "plt.xlabel('Ratings', fontsize=16, fontweight='bold')\n",
        "plt.ylabel('Count', fontsize=16, fontweight='bold')\n",
        "plt.xlim(0.5, 5.5, 1)\n",
        "plt.xticks(fontsize=14, fontweight='bold')\n",
        "plt.yticks(fontsize=14, fontweight='bold')\n",
        "plt.show()"
      ]
    },
    {
      "cell_type": "markdown",
      "metadata": {
        "id": "SNmJIlkaFyu0"
      },
      "source": [
        "As seen above, results have vastly improved after ensembling the baseline Ridge Regression model (section 4.1) and BiLSTM model (section 4.2). The model fit is also excellent with MSE on both training and testing data very close. This will be final model that will be adopted to test on actual data (that is, the data submitted on Kaggle).\n",
        "\n",
        "However, further approaches will be looked at to see if further performance can be achieved."
      ]
    },
    {
      "cell_type": "code",
      "execution_count": null,
      "metadata": {
        "id": "MAr2m-O3FXuN"
      },
      "outputs": [],
      "source": [
        "##### USING ABOVE MODEL TO WRITE TO ACTUAL TEST FILE FOR KAGGLE #####\n",
        "\n",
        "\n",
        "### UNCOMMENT BELOW CODE TO WRITE TO READ AND WRITE TO FILE ###\n",
        "\n",
        "# # put prediction on test set in dataFrame\n",
        "# y_pred_test_df_final = pd.DataFrame(y_pred_tst_corr, columns=['prediction'])\n",
        "\n",
        "# # writing to predictions\n",
        "# rating_pair = pd.read_csv('rating_pairs.csv')\n",
        "# rating_pair.drop('prediction', axis=1, inplace=True)\n",
        "# rating_pair = pd.concat([rating_pair, y_pred_test_df_final], axis=1)\n",
        "# rating_pair.to_csv('rating_pairs_filled.csv', index=False)"
      ]
    },
    {
      "cell_type": "markdown",
      "metadata": {
        "id": "FwVqL6XzZB1x"
      },
      "source": [
        "### **4.5 Recommendation System Modeling**\n",
        "Another approach of looking at this task is my implementing a recommendation engine model that will work on the principle of collaborative filtering. This method works by collecting similar informations from many users and the making predictions on that. This implementation will only look at 2 features: reviewerID and itemID since it essentially learns from the user-item pair.\n",
        "\n",
        "Two algorithms of model-based collaborative filtering will be explored:\n",
        "- Singular Value Decomposition (SVD)\n",
        "- K-Nearest Neighbor (KNN)"
      ]
    },
    {
      "cell_type": "code",
      "execution_count": null,
      "metadata": {
        "id": "fevHs3xmbWL9"
      },
      "outputs": [],
      "source": [
        "from surprise import SVD, SVDpp\n",
        "from surprise import accuracy as surprise_acc\n",
        "from surprise import Reader\n",
        "from surprise import Dataset\n",
        "from surprise import KNNWithMeans, KNNWithZScore\n",
        "from surprise.model_selection import GridSearchCV as surprise_GSCV"
      ]
    },
    {
      "cell_type": "code",
      "execution_count": null,
      "metadata": {
        "id": "UIHc9M5ai4EJ"
      },
      "outputs": [],
      "source": [
        "# filter out only reviewers who have given more than 5 ratings (these are essentially assumed to be regular reviewers and hence can be trusted)\n",
        "DF_train_filtered = DF_train_clean[DF_train_clean['reviewerID'].map(DF_train_clean['reviewerID'].value_counts()) > 5]\n",
        "\n",
        "# filter data into two portions randomly\n",
        "np.random.seed(0)\n",
        "rand_sample = np.random.rand(len(DF_train_filtered)) < 0.3\n",
        "DF_train_part = DF_train_filtered[~rand_sample]\n",
        "DF_val_part = DF_train_filtered[rand_sample]"
      ]
    },
    {
      "cell_type": "code",
      "execution_count": null,
      "metadata": {
        "id": "qu3DvTZQZLOQ"
      },
      "outputs": [],
      "source": [
        "# convert to Dataset format readable by Surprise library\n",
        "rating = Reader(rating_scale = (1.0, 5.0))\n",
        "train_data = Dataset.load_from_df(DF_train_part[['reviewerID','itemID','overall']], rating)\n",
        "val_data = Dataset.load_from_df(DF_val_part[['reviewerID','itemID','overall']], rating)\n",
        "\n",
        "# Build train and validation sets\n",
        "train_data_blt = train_data.build_full_trainset()\n",
        "train_data_for_val_blt = train_data_blt.build_testset()\n",
        "val_data_blt = val_data.build_full_trainset().build_testset()"
      ]
    },
    {
      "cell_type": "markdown",
      "metadata": {
        "id": "hzBhWZAwgKUL"
      },
      "source": [
        "#### **4.6(a) SVD**"
      ]
    },
    {
      "cell_type": "code",
      "execution_count": null,
      "metadata": {
        "colab": {
          "base_uri": "https://localhost:8080/"
        },
        "id": "jn3Sz5ivQMvb",
        "outputId": "ce34b024-948c-465d-9876-bcc94fc9713f"
      },
      "outputs": [
        {
          "name": "stdout",
          "output_type": "stream",
          "text": [
            "0.830291379531437\n",
            "{'n_epochs': 25, 'lr_all': 0.01, 'reg_all': 0.4}\n"
          ]
        }
      ],
      "source": [
        "# Model-based collaborative learning using SVD\n",
        "param_grid = {\n",
        "    'n_epochs': [20, 25], \n",
        "    'lr_all': [0.007, 0.009, 0.01],\n",
        "    'reg_all': [0.4, 0.6]\n",
        "}\n",
        "\n",
        "gs = surprise_GSCV(SVDpp, param_grid, measures=[\"mse\"], cv=3)\n",
        "gs.fit(train_data)\n",
        "\n",
        "print(gs.best_score[\"mse\"])\n",
        "print(gs.best_params[\"mse\"])"
      ]
    },
    {
      "cell_type": "code",
      "execution_count": null,
      "metadata": {
        "colab": {
          "base_uri": "https://localhost:8080/"
        },
        "id": "q-0lE_r8IjRD",
        "outputId": "3abf12df-a6d6-4f29-fb22-de99d511165a"
      },
      "outputs": [
        {
          "name": "stdout",
          "output_type": "stream",
          "text": [
            "Result with Recommendation System (SVD)\n",
            "\n",
            "MSE on training set = 0.451\n",
            "MSE on testing set = 0.808\n"
          ]
        }
      ],
      "source": [
        "##### SVD #####\n",
        "# using best hyperparameters from above\n",
        "svd_algo = SVDpp(n_epochs = 25, lr_all = 0.01, reg_all = 0.4)         \n",
        "svd_algo.fit(train_data_blt)\n",
        "predictions_trn = svd_algo.test(train_data_for_val_blt)\n",
        "predictions_val = svd_algo.test(val_data_blt)\n",
        "\n",
        "# calculate mse\n",
        "y_trn_mse_rec = surprise_acc.mse(predictions_trn, verbose=False)\n",
        "y_val_mse_rec = surprise_acc.mse(predictions_val, verbose=False)\n",
        "\n",
        "\n",
        "# print\n",
        "print(\"Result with Recommendation System (SVD)\\n\")\n",
        "print(\"MSE on training set = {:.3f}\".format(y_trn_mse_rec))\n",
        "print(\"MSE on testing set = {:.3f}\".format(y_val_mse_rec))"
      ]
    },
    {
      "cell_type": "code",
      "execution_count": null,
      "metadata": {
        "id": "DsyjUqM3mtUU"
      },
      "outputs": [],
      "source": [
        "svd_train = y_trn_mse_rec.copy()\n",
        "svd_test = y_val_mse_rec.copy()"
      ]
    },
    {
      "cell_type": "markdown",
      "metadata": {
        "id": "m0dAoTsKiy7H"
      },
      "source": [
        "Analyzing the results above, it can be seen that model is significantly overfitting. Although the MSE on the training data is low, it is not the case for the testing data. The high MSE on the testing data indicates that the model has overfit. \n",
        "\n",
        "One of the reasons for this is that the unseen data would contain unique user-item pairs that were not in the training data. Hence, the model will not know how to predict these.\n",
        "\n",
        "Next, lets also look at how K-Nearest Neighbors can be applied in terms of a recommendation model."
      ]
    },
    {
      "cell_type": "markdown",
      "metadata": {
        "id": "eADdbRSzgYS4"
      },
      "source": [
        "#### **4.6(b) KNN**"
      ]
    },
    {
      "cell_type": "code",
      "execution_count": null,
      "metadata": {
        "id": "idXczA4_LbNu"
      },
      "outputs": [],
      "source": [
        "# Model-based collaborative learning using KNN\n",
        "sim_options = {\n",
        "    \"name\": [\"msd\", \"cosine\"],\n",
        "    \"min_support\": [3, 5, 7],\n",
        "    \"user_based\": [False, True]\n",
        "}\n",
        "\n",
        "param_grid = {\"sim_options\": sim_options, \"verbose\": [False]}\n",
        "gs = surprise_GSCV(KNNWithMeans, param_grid, measures=[\"mse\"], cv=3)\n",
        "gs.fit(train_data)\n",
        "\n",
        "print(gs.best_score[\"mse\"])\n",
        "print(gs.best_params[\"mse\"])"
      ]
    },
    {
      "cell_type": "code",
      "execution_count": null,
      "metadata": {
        "colab": {
          "base_uri": "https://localhost:8080/"
        },
        "id": "4urBRJHmLbaf",
        "outputId": "4f5b24db-49e6-4adc-9bb9-f5ebcfb4155d"
      },
      "outputs": [
        {
          "name": "stdout",
          "output_type": "stream",
          "text": [
            "Result with Recommendation System (KNN)\n",
            "\n",
            "MSE on training set = 0.120\n",
            "MSE on testing set = 0.968\n"
          ]
        }
      ],
      "source": [
        "# using best hyperparameters from above\n",
        "knn_algo = KNNWithMeans(name = 'msd', min_support = 7, user_based = True, verbose=False)         \n",
        "knn_algo.fit(train_data_blt)\n",
        "predictions_trn = knn_algo.test(train_data_for_val_blt)\n",
        "predictions_val = knn_algo.test(val_data_blt)\n",
        "\n",
        "# calculate mse\n",
        "y_trn_mse_rec = surprise_acc.mse(predictions_trn, verbose=False)\n",
        "y_val_mse_rec = surprise_acc.mse(predictions_val, verbose=False)\n",
        "\n",
        "\n",
        "# print\n",
        "print(\"Result with Recommendation System (KNN)\\n\")\n",
        "print(\"MSE on training set = {:.3f}\".format(y_trn_mse_rec))\n",
        "print(\"MSE on testing set = {:.3f}\".format(y_val_mse_rec))"
      ]
    },
    {
      "cell_type": "markdown",
      "metadata": {
        "id": "-odfbRwPkIgF"
      },
      "source": [
        "This model also overfits for the same reason as mentioned above for the SVD model."
      ]
    },
    {
      "cell_type": "code",
      "execution_count": null,
      "metadata": {
        "id": "q7coE7FId3UI"
      },
      "outputs": [],
      "source": [
        "knn_train = y_trn_mse_rec.copy()\n",
        "knn_test = y_val_mse_rec.copy()"
      ]
    },
    {
      "cell_type": "markdown",
      "metadata": {
        "id": "XE_BfqQJ4J4E"
      },
      "source": [
        "# **5.0  Results and Discussion**\n",
        "\n",
        "It is a common text preprocessing technique. The idea is to convert the input text into same casing format so that 'text', 'Text' and 'TEXT' are treated the same way."
      ]
    },
    {
      "cell_type": "markdown",
      "metadata": {
        "id": "SMphevUKcEmm"
      },
      "source": [
        "The comparison for all the models that we implemented is compared in the table below. A few models were great at MSE error in the training set but due to overfitting on the given data testing results were very poor."
      ]
    },
    {
      "cell_type": "code",
      "execution_count": null,
      "metadata": {
        "colab": {
          "base_uri": "https://localhost:8080/",
          "height": 238
        },
        "id": "_ZorqXQuOF1V",
        "outputId": "2845fa47-5dc1-4baa-cd9f-4ee11f5880d5"
      },
      "outputs": [
        {
          "data": {
            "text/html": [
              "<div>\n",
              "<style scoped>\n",
              "    .dataframe tbody tr th:only-of-type {\n",
              "        vertical-align: middle;\n",
              "    }\n",
              "\n",
              "    .dataframe tbody tr th {\n",
              "        vertical-align: top;\n",
              "    }\n",
              "\n",
              "    .dataframe thead th {\n",
              "        text-align: right;\n",
              "    }\n",
              "</style>\n",
              "<table border=\"1\" class=\"dataframe\">\n",
              "  <thead>\n",
              "    <tr style=\"text-align: right;\">\n",
              "      <th></th>\n",
              "      <th>Model</th>\n",
              "      <th>Training MSE</th>\n",
              "      <th>Test MSE</th>\n",
              "    </tr>\n",
              "  </thead>\n",
              "  <tbody>\n",
              "    <tr>\n",
              "      <th>0</th>\n",
              "      <td>Ridge Regression</td>\n",
              "      <td>0.492</td>\n",
              "      <td>0.521</td>\n",
              "    </tr>\n",
              "    <tr>\n",
              "      <th>1</th>\n",
              "      <td>Bi LSTM</td>\n",
              "      <td>0.414</td>\n",
              "      <td>0.497</td>\n",
              "    </tr>\n",
              "    <tr>\n",
              "      <th>2</th>\n",
              "      <td>Ensembling</td>\n",
              "      <td>0.386</td>\n",
              "      <td>0.452</td>\n",
              "    </tr>\n",
              "    <tr>\n",
              "      <th>3</th>\n",
              "      <td>SVD</td>\n",
              "      <td>0.451</td>\n",
              "      <td>0.808</td>\n",
              "    </tr>\n",
              "    <tr>\n",
              "      <th>4</th>\n",
              "      <td>k-NN</td>\n",
              "      <td>0.120</td>\n",
              "      <td>0.968</td>\n",
              "    </tr>\n",
              "    <tr>\n",
              "      <th>5</th>\n",
              "      <td>XGB</td>\n",
              "      <td>0.452</td>\n",
              "      <td>0.555</td>\n",
              "    </tr>\n",
              "  </tbody>\n",
              "</table>\n",
              "</div>"
            ],
            "text/plain": [
              "              Model  Training MSE  Test MSE\n",
              "0  Ridge Regression         0.492     0.521\n",
              "1           Bi LSTM         0.414     0.497\n",
              "2        Ensembling         0.386     0.452\n",
              "3               SVD         0.451     0.808\n",
              "4              k-NN         0.120     0.968\n",
              "5               XGB         0.452     0.555"
            ]
          },
          "execution_count": 106,
          "metadata": {
            "tags": []
          },
          "output_type": "execute_result"
        }
      ],
      "source": [
        "# combining all model MSE's in a table format\n",
        "model_name = np.array([['Ridge Regression'], ['Bi LSTM'], ['Ensembling'], ['SVD'], ['k-NN'], ['XGB']])\n",
        "\n",
        "training_mse = np.array([[round(ridge_train, 3)], [round(lstm_train, 3)],\n",
        "              [round(ensemble_train, 3)], [round(svd_train, 3)],\n",
        "              [round(knn_train, 3)],[round(xgb_train, 3)]])\n",
        "\n",
        "test_mse = np.array([[round(ridge_test, 3)], [round(lstm_test, 3)],\n",
        "              [round(ensemble_test, 3)], [round(svd_test, 3)],\n",
        "              [round(knn_test, 3)],[round(xgb_test, 3)]]) \n",
        " \n",
        "results_np = np.concatenate((model_name, training_mse, test_mse), axis=1) \n",
        "Results = pd.DataFrame(results_np, columns = ['Model', 'Training MSE', 'Test MSE'])\n",
        "Results['Training MSE'] = Results['Training MSE'].astype(float)\n",
        "Results['Test MSE'] = Results['Test MSE'].astype(float)\n",
        "Results"
      ]
    },
    {
      "cell_type": "code",
      "execution_count": null,
      "metadata": {
        "colab": {
          "base_uri": "https://localhost:8080/",
          "height": 527
        },
        "id": "U_VOr4AkKnLB",
        "outputId": "f3757c6d-9785-484f-bfd6-2e00e7da9ae5"
      },
      "outputs": [
        {
          "data": {
            "image/png": "[encoded data removed]",
            "text/plain": [
              "<Figure size 1080x576 with 1 Axes>"
            ]
          },
          "metadata": {
            "tags": []
          },
          "output_type": "display_data"
        }
      ],
      "source": [
        "# making a new dataframe to make side-by-side plots\n",
        "train_df = pd.DataFrame(np.concatenate((model_name, training_mse), axis=1), columns = ['model', 'mse'])\n",
        "train_df['set'] = 'training'\n",
        "\n",
        "test_df = pd.DataFrame(np.concatenate((model_name, test_mse), axis=1), columns = ['model', 'mse'])\n",
        "test_df['set'] = 'testing'\n",
        "\n",
        "final_result = pd.concat([train_df, test_df])\n",
        "final_result['mse'] = final_result['mse'].astype(float)\n",
        "\n",
        "# plotting all MSE for comparison\n",
        "plt.figure(figsize=(15, 8))\n",
        "sns.barplot(y='model', x='mse', data=final_result, hue='set')\n",
        "plt.xlabel('Mean Squared Error', fontsize=16, fontweight='bold')\n",
        "plt.ylabel('Model', fontsize=16, fontweight='bold')\n",
        "plt.title('Comparison of All Models', fontsize=20, fontweight='bold')\n",
        "plt.xlim(0, 1.0)\n",
        "plt.xticks(fontsize=14, fontweight='bold')\n",
        "plt.yticks(fontsize=14, fontweight='bold')\n",
        "legend = plt.legend(title='Set', fontsize='x-large')\n",
        "plt.setp(legend.get_title(),fontsize='x-large', fontweight='bold')\n",
        "plt.show()"
      ]
    },
    {
      "cell_type": "markdown",
      "metadata": {
        "id": "EK0V25LmcYc8"
      },
      "source": [
        "The model with the lowest MSE for the Training and Testing data (giving the best fit) was the Stacked Ensembling. This would be the choice of model deploy in production. The model does have its computational limitations due to the use of deep learning model (Bi-LSTM) as one of the base learners. However, this setback was overcome by using GPU capabilities on Google colab. \n",
        "\n",
        "\n",
        "Organisations can use this model to make an informed decision about the taste of music a particular user might prefer based on the available data. Also, this could be used as a recommendation for a better tailored product which a user might buy based on the music preference, for example a person who gives 5 star rating to rock music would be more inclined to buy an electric guitar than others. Moreover, the results from the exploratory analysis also revealed where the music industry as a whole should be focussing their efforts more on Pop music as it has been gaining in popularity since 2006. In conclusion, the model which we have developed is able to predict the rating very accurately with lower MSE and it could be very beneficial to people in the music and e-commerce industry who want to make concrete decisions about their customers.\n"
      ]
    },
    {
      "cell_type": "code",
      "execution_count": null,
      "metadata": {
        "id": "DNIqXvhEOF32"
      },
      "outputs": [],
      "source": [
        "########## END OF NOTEBOOK ##########"
      ]
    }
  ],
  "metadata": {
    "accelerator": "GPU",
    "colab": {
      "collapsed_sections": [],
      "name": "Amazon Music Reviews.ipynb",
      "provenance": [],
      "toc_visible": true
    },
    "kernelspec": {
      "display_name": "Python 3",
      "language": "python",
      "name": "python3"
    },
    "language_info": {
      "codemirror_mode": {
        "name": "ipython",
        "version": 3
      },
      "file_extension": ".py",
      "mimetype": "text/x-python",
      "name": "python",
      "nbconvert_exporter": "python",
      "pygments_lexer": "ipython3",
      "version": "3.8.3"
    }
  },
  "nbformat": 4,
  "nbformat_minor": 0
}